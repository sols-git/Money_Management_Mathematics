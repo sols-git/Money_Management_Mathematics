{
 "cells": [
  {
   "cell_type": "markdown",
   "metadata": {},
   "source": [
    "### РАЛЬФ ВИНС\n",
    "### Математика управления капиталом\n",
    "### Методы анализа риска для трейдеров и портфельных менеджеров\n",
    "### Часть II"
   ]
  },
  {
   "cell_type": "code",
   "execution_count": 6,
   "metadata": {},
   "outputs": [],
   "source": [
    "import pyttsx3\n",
    "import pandas as pd\n",
    "import numpy as np\n",
    "import copy\n",
    "import matplotlib.pyplot as plt"
   ]
  },
  {
   "cell_type": "markdown",
   "metadata": {},
   "source": [
    "#### Фундаментальное уравнение торговли"
   ]
  },
  {
   "cell_type": "markdown",
   "metadata": {},
   "source": [
    "Мы можем получить гораздо больше, чем просто понимание того факта, что\n",
    "уменьшение размера проигрышей улучшает конечный результат. Вернемся к\n",
    "уравнению (1.19а):\n",
    "\n",
    "(1.19a) Оценочное $TWR = (AHPR ^ 2 -SD ^ 2) ^ {1/2}) ^ N$\n",
    "\n",
    "Подставим А вместо AHPR (среднее арифметическое HPR). Далее, так как (X ^ Y) ^ Z = Х ^ (Y * Z), мы можем еще больше упростить уравнение:\n",
    "\n",
    "A = AHPR\n",
    "\n",
    "**Оценочное $TWR = (A ^ 2 - SD ^ 2) ^ {N/2}$**\n",
    "\n",
    "**Это последнее уравнение мы назовем фундаментальным уравнением торговли, так\n",
    "как оно описывает, как различные факторы: А, SD и N — влияют на результат торговли.**"
   ]
  },
  {
   "cell_type": "markdown",
   "metadata": {},
   "source": [
    "Очевидны несколько фактов. \n",
    "\n",
    "Во-первых, если А меньше или равно единице, тогда при любых значениях двух других переменных, SD и N, наш\n",
    "результат не может быть больше единицы. \n",
    "\n",
    "Если А меньше единицы, то при N, стремящемся к бесконечности, наш результат приближается к нулю. Это означает,\n",
    "что, если А меньше или равно 1 (математическое ожидание меньше или равно нулю, так как математическое ожидание равно А - 1), у нас нет шансов получить\n",
    "прибыль. \n",
    "\n",
    "Фактически, если А меньше 1, то наше разорение — это просто вопрос времени (то есть достаточно большого N)."
   ]
  },
  {
   "cell_type": "markdown",
   "metadata": {},
   "source": [
    "При условии, что А больше 1, сростом N увеличивается наша прибыль. \n",
    "\n",
    "Например, система показала среднее арифметическое 1,1 и стандартное отклонение 0,25.\n",
    "Таким образом:"
   ]
  },
  {
   "cell_type": "code",
   "execution_count": 29,
   "metadata": {},
   "outputs": [
    {
     "data": {
      "text/plain": [
       "[<matplotlib.lines.Line2D at 0x12aed7fa0>]"
      ]
     },
     "execution_count": 29,
     "metadata": {},
     "output_type": "execute_result"
    },
    {
     "data": {
      "image/png": "[encoded data removed]",
      "text/plain": [
       "<Figure size 432x288 with 1 Axes>"
      ]
     },
     "metadata": {
      "needs_background": "light"
     },
     "output_type": "display_data"
    }
   ],
   "source": [
    "N = 100\n",
    "A = 1.1\n",
    "SD = 0.25\n",
    "TWR = []\n",
    "for n in range(N):\n",
    "    y = (A**2 - SD**2)**(n/2)\n",
    "    TWR.append([n, y])\n",
    "twr_arr = np.array(TWR)\n",
    "plt.plot(twr_arr[:,0], twr_arr[:,1])"
   ]
  },
  {
   "cell_type": "markdown",
   "metadata": {},
   "source": [
    "Таким образом, каждая следующая сделка, каждое увеличение N на единицу\n",
    "соответствует умножению нашего конечного счета на 1,071214264."
   ]
  },
  {
   "cell_type": "markdown",
   "metadata": {},
   "source": [
    "Отметьте, что это число является средним геометрическим. Каждый раз, когда осуществляется\n",
    "сделка и когда N увеличивается на единицу, коэффициент умножается на среднее\n",
    "геометрическое. В этом и состоит действительная польза диверсификации,\n",
    "выраженная математически фундаментальным уравнением торговли.\n",
    "Диверсификация позволяет вам как бы увеличить N (т.е. количество сделок) за\n",
    "определенный период времени."
   ]
  },
  {
   "cell_type": "markdown",
   "metadata": {},
   "source": [
    "Есть еще одна важная деталь, которую необходимо\n",
    "отметить при рассмотрении фундаментального уравнения торговли: хорошо, когда\n",
    "вы уменьшаете стандартное отклонение больше, чем арифметическое среднее\n",
    "HPR. **Поэтому следует быстро закрывать убыточные позиции (использовать\n",
    "маленький stop-loss).**"
   ]
  },
  {
   "cell_type": "markdown",
   "metadata": {},
   "source": [
    "Но уравнение также демонстрирует, что при выборе слишком\n",
    "жесткого стопа вы можете больше потерять. Вас выбьет с рынка из-за слишком\n",
    "большого количества сделок с маленьким проигрышем, которые позднее оказались\n",
    "бы прибыльными, поскольку А уменьшается в большей степени, чем SD."
   ]
  },
  {
   "cell_type": "markdown",
   "metadata": {},
   "source": [
    "Вместе с тем, и уменьшение больших выигрышных сделок поможет вашей системе, если\n",
    "это уменьшает SD больше, чем уменьшает А. Во многих случаях этого можно\n",
    "достичь путем включения в вашу торговую программу опционов. Позиция по\n",
    "опционам, которая направлена против позиции базового инструмента (покупка\n",
    "опциона или продажа соответствующего опциона), может оказаться весьма\n",
    "полезной."
   ]
  },
  {
   "cell_type": "markdown",
   "metadata": {},
   "source": [
    "Например, если у вас длинная позиция по какой-либо акции (или\n",
    "товару), покупка пут-опциона (или продажа колл-опциона) может уменьшить ваше\n",
    "SD по совокупной позиции в большей степени, чем уменьшить А."
   ]
  },
  {
   "cell_type": "markdown",
   "metadata": {},
   "source": [
    "Если вы\n",
    "получаете прибыль по базовому инструменту, то будете в убытке по опциону. При\n",
    "этом убыток опциону лишь незначительно уменьшит общую прибыль. Таким\n",
    "образом, вы уменьшили как ваше SD, так и А. Если вы не получаете прибыль по\n",
    "базовому инструменту, вам надо увеличить А и уменьшить SD. Надо стремиться\n",
    "уменьшить SD в большей степени, чем уменьшить А."
   ]
  },
  {
   "cell_type": "markdown",
   "metadata": {},
   "source": [
    "Конечно, издержки на трансакции при такой стратегии довольно значительны, и\n",
    "они всегда должны приниматься в расчет. Чтобы воспользоваться такой\n",
    "стратегией, ваша программа не должна быть ориентирована на очень короткий\n",
    "срок."
   ]
  },
  {
   "cell_type": "markdown",
   "metadata": {},
   "source": [
    "Все вышесказанное лишь подтверждает, что различные стратегии и\n",
    "различные торговые правила должны рассматриваться сточки зрения\n",
    "фундаментального уравнения торговли. Таким образом, мы можем оценить\n",
    "влияние этих факторов на уровень возможных убытков и понять, что именно\n",
    "необходимо сделать для улучшения системы."
   ]
  },
  {
   "cell_type": "markdown",
   "metadata": {},
   "source": [
    "Допустим, в долгосрочной торговой программе была использована выше-\n",
    "упомянутая стратегия покупки пут-опциона совместно с длинной позицией по\n",
    "базовому инструменту, в результате мы получили большее оценочное TWR.\n",
    "Ситуация, когда одновременно открыты длинная позиция по базовому\n",
    "инструменту и позиция по пут-опциону, эквивалентна просто длинной позиции по\n",
    "колл-опциону. В том случае лучше просто купить колл-опцион, так как издержки\n",
    "на трансакции будут существенно ниже1, чем при наличии длинной позиции по\n",
    "базовому инструменту и длинной позиции по пут-опциону.\n",
    "\n",
    "Здесь есть еще один плюс, который сразу может быть и не виден. Он состоит в том, что мы заранее знаем\n",
    "проигрыш худшего случая. Учитывая, насколько чувствительно уравнение оптимального f к наибольшему\n",
    "проигрышу, такая стратегия может приблизить нас к пику кривой f и показать, каким может быть наибольший\n",
    "проигрыш. Во-вторых, проблема проигрыша в 3 стандартных отклонениях (или больше) с более высокой\n",
    "вероятностью, чем подразумевает нормальное распределение, будет устранена. Именно гигантские\n",
    "проигрыши более 3 стандартных отклонений разоряют большинство трейдеров. Опционные стратегии могут\n",
    "полностью упразднить такие проигрыши."
   ]
  },
  {
   "cell_type": "markdown",
   "metadata": {},
   "source": [
    "Продемонстрируем это на примере рынка индексов акций в 1987 году. Допустим, мы покупаем базовый\n",
    "инструмент — индекс ОЕХ. Система, которую мы будем использовать, является\n",
    "простым 20-дневным прорывом канала. Каждый день мы рассчитываем самый\n",
    "высокий максимум и самый низкий минимум последних 20 дней.\n",
    "\n",
    "Затем, в течение\n",
    "дня, если рынок повышается и касается верхней точки, мы покупаем.\n",
    "\n",
    "Если цены идут вниз и касаются низшей точки, мы продаем. Если дневные открытия выше\n",
    "или ниже точек входа в рынок, мы входим при открытии. Такая система\n",
    "подразумевает постоянную торговлю на рынке:"
   ]
  }
 ],
 "metadata": {
  "kernelspec": {
   "display_name": "Python 3",
   "language": "python",
   "name": "python3"
  },
  "language_info": {
   "codemirror_mode": {
    "name": "ipython",
    "version": 3
   },
   "file_extension": ".py",
   "mimetype": "text/x-python",
   "name": "python",
   "nbconvert_exporter": "python",
   "pygments_lexer": "ipython3",
   "version": "3.8.5"
  }
 },
 "nbformat": 4,
 "nbformat_minor": 4
}
