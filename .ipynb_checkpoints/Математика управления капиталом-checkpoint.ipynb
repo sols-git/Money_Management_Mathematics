{
 "cells": [
  {
   "cell_type": "markdown",
   "metadata": {},
   "source": [
    "### РАЛЬФ ВИНС\n",
    "### Математика управления капиталом\n",
    "### Методы анализа риска для трейдеров и портфельных менеджеров\n"
   ]
  },
  {
   "cell_type": "markdown",
   "metadata": {},
   "source": [
    "Попытка применить математические выкладки данной книги на python"
   ]
  },
  {
   "cell_type": "code",
   "execution_count": 2,
   "metadata": {},
   "outputs": [],
   "source": [
    "import pyttsx3\n",
    "import pandas as pd\n",
    "import numpy as np\n",
    "import copy\n",
    "import matplotlib.pyplot as plt"
   ]
  },
  {
   "cell_type": "code",
   "execution_count": 3,
   "metadata": {},
   "outputs": [],
   "source": [
    "def TTS(text):\n",
    "    engine = pyttsx3.init()\n",
    "    engine.setProperty('rate', 150) \n",
    "    voices = engine.getProperty('voices')\n",
    "    engine.say(text)\n",
    "    engine.runAndWait()\n",
    "    engine.stop()"
   ]
  },
  {
   "cell_type": "markdown",
   "metadata": {},
   "source": [
    "#### Глава 1\n",
    "#### Эмпирические методы"
   ]
  },
  {
   "cell_type": "markdown",
   "metadata": {},
   "source": [
    "#### Какой долей счета торговать?"
   ]
  },
  {
   "cell_type": "code",
   "execution_count": 24,
   "metadata": {},
   "outputs": [],
   "source": [
    "TTS('...уровень счета зависит от правильного выбора количества контрактов не в меньшей степени, чем от правильного направления торговли.')"
   ]
  },
  {
   "cell_type": "code",
   "execution_count": 13,
   "metadata": {},
   "outputs": [],
   "source": [
    "TTS('Например, если при счете в 50000 долларов вы ожидаете, в худшем случае, \\\n",
    "    убыток 5000 долларов на контракт, и открыто 5 контрактов, то делителем будет 0,5.')"
   ]
  },
  {
   "cell_type": "code",
   "execution_count": 11,
   "metadata": {},
   "outputs": [
    {
     "name": "stdout",
     "output_type": "stream",
     "text": [
      "делитель равен 0.5\n"
     ]
    }
   ],
   "source": [
    "account = 50000 # величина счета\n",
    "loss = 5000 # убыток на один контракт\n",
    "n_contracts = 5\n",
    "\n",
    "f = n_contracts * loss / account\n",
    "print(f'делитель равен {f}')"
   ]
  },
  {
   "cell_type": "code",
   "execution_count": 107,
   "metadata": {},
   "outputs": [],
   "source": [
    "TTS('Этот делитель мы назовем переменной f. Таким образом, сознательно или подсознательно при любой сделке вы выбираете значение f, \\\n",
    "когда решаете, сколько контрактов или акций приобрести')"
   ]
  },
  {
   "cell_type": "markdown",
   "metadata": {},
   "source": [
    "Теперь посмотрите на рисунок 1-1. На нем представлена игра, где у вас 50%\n",
    "шансов выиграть 2 доллара против 50% шансов потерять 1 доллар в каждой игре.\n",
    "Отметьте, что здесь оптимальное f составляет 0,25, когда TWR составляет 10,55\n",
    "после 40 ставок (20 последовательностей +2, -1). TWR — это «относительный\n",
    "конечный капитал» (Terminal Wealth Relative), он представляет доход по вашим\n",
    "ставкам в виде множителя. TWR = 10,55 означает, что вы увеличили бы в 10,55 раз\n",
    "ваш первоначальный счет, или получили бы 955% прибыли. Теперь посмотрите,\n",
    "что произойдет, если вы отклонитесь всего лишь на 0,15 от оптимального f= 0,25.\n",
    "Когда f равно 0,1 или 0,4, ваш TWR = 4,66. Это не составляет даже половины того,\n",
    "что будет при 0,25, причем вы отошли только на 0,15 от оптимального значения и\n",
    "сделали только 40 ставок!"
   ]
  },
  {
   "cell_type": "code",
   "execution_count": null,
   "metadata": {},
   "outputs": [],
   "source": [
    "# n_game_bet = 40 - количество ставок\n",
    "# TWR - относительный конечный капитал (Terminal Wealth Relative) \n",
    "# TWR = 10.55 - после 40 ставок (20 последовательностей +2, -1) при f = 0.25\n",
    "# TWR = 4.66 - при f = 0.1 или 0.4"
   ]
  },
  {
   "cell_type": "code",
   "execution_count": null,
   "metadata": {},
   "outputs": [],
   "source": []
  },
  {
   "cell_type": "markdown",
   "metadata": {},
   "source": [
    "<img src=\"1-1.png\" width=\"400\">"
   ]
  },
  {
   "cell_type": "markdown",
   "metadata": {},
   "source": [
    "О какой сумме в долларах мы говорим? При f = 0,1 вы ставите 1 доллар на каж-\n",
    "дые 10 долларов на счете. При f= 0,4 вы ставите 1 доллар на каждые 2,50 долларов\n",
    "на счете. В обоих случаях мы получаем TWR = 4,66. При f= 0,25 вы ставите 1 дол-\n",
    "лар на каждые 4 доллара на счете. Отметьте, что если вы ставите 1 доллар на каж-\n",
    "дые 4 доллара на счете, то выигрываете в два раза больше после 40 ставок, чем в\n",
    "случае ставки одного доллара на каждые 2,50 доллара на вашем счете! Очевидно,\n",
    "что не стоит излишне увеличивать ставку. При ставке 1 доллар на каждые 2,50\n",
    "доллара вы получите тот же результат, что и в случае ставки четверти этой суммы,\n",
    "то есть 1 доллар на каждые 10 долларов на вашем счете! Отметьте, что в игре\n",
    "50/50, где вы выигрываете вдвое больше, чем проигрываете, при f= 0,5 вы только\n",
    "«остаетесь при своих»! При f больше 0,5 вы проигрываете в этой игре, и теперь\n",
    "окончательное разорение — это просто вопрос времени! Другими словами, если f\n",
    "(в игре 50/50, 2:1) на 0,25 отклоняется от оптимального, вы будете банкротом с\n",
    "вероятностью, которая приближается к определенности, если продолжать играть\n",
    "достаточно долго. Таким образом, нашей целью будет объективный поиск пика\n",
    "кривой f для данной торговой системы."
   ]
  },
  {
   "cell_type": "markdown",
   "metadata": {},
   "source": [
    "#### Основные концепции"
   ]
  },
  {
   "cell_type": "markdown",
   "metadata": {},
   "source": [
    "**Вероятность** - задается числом от 0 и 1, которое определяет, насколько вероятен ре-\n",
    "зультат, где 0 — это полное отсутствие вероятности происхождения\n",
    "определенного события, а 1 означает, что рассматриваемое событие определенно\n",
    "произойдет."
   ]
  },
  {
   "cell_type": "markdown",
   "metadata": {},
   "source": [
    "**Процесс независимых испытаний** (отбор с замещением) является\n",
    "последовательностью результатов, где значение вероятности постоянно от одного\n",
    "события к другому Бросок монеты является примером такого процесса. Каждый\n",
    "бросок имеет вероятность 50/50 независимо от результата предыдущего броска."
   ]
  },
  {
   "cell_type": "markdown",
   "metadata": {},
   "source": [
    "**Процесс зависимых испытаний** (отбор без замещения) - результат предыдущих событий влияет на значение вероятности, и, таким образом, значение вероятности непостоянно от одного события к другому. Игра «21 очко» является\n",
    "примером такого процесса. Допустим, что новая колода перемешивается и одна карта удалена,\n",
    "скажем, бубновый туз. До удаления этой карты вероятность вытянуть туза была\n",
    "4/52, или 0,07692307692. Теперь, когда туза вытащили из колоды и не вернули об-\n",
    "ратно, вероятность вытянуть туза при следующем ходе составляет 3/51, или\n",
    "0,05882352941."
   ]
  },
  {
   "cell_type": "markdown",
   "metadata": {},
   "source": [
    "**Различие между независимыми и зависимыми испытаниями** состоит в том, что\n",
    "вероятность или фиксирована (независимые попытки), или меняется (зависимые\n",
    "попытки) от одного события к другому, в зависимости от предыдущих\n",
    "результатов. Фактически это и есть единственное различие."
   ]
  },
  {
   "cell_type": "markdown",
   "metadata": {},
   "source": [
    "**Серийный тест.** Для определенных событий\n",
    "(таких, как поток прибыли и убытков по сделкам), где зависимость не может быть\n",
    "определена путем проверки, мы будем использовать серийный тест. Серийный\n",
    "тест подскажет нам, имеет ли наша система больше (или меньше) периодов\n",
    "последовательных выигрышей и проигрышей, чем случайное распределение. Цель серийного теста — найти счет Z для периодов выигрышей и проигрышей\n",
    "в системной торговлеe.\n",
    "\n",
    "Счет Z означает, на сколько стандартных отклонений вы\n",
    "удалены от среднего значения распределения. Таким образом, счет Z = 2,00 озна-\n",
    "чает, что вы на 2,00 стандартных отклонения удалились от среднего значения\n",
    "(ожидание случайного распределения периодов выигрышей и проигрышей).\n",
    "Счет Z — это просто число стандартных отклонений, на которое данные\n",
    "отстоят от среднего значения нормального распределения вероятности."
   ]
  },
  {
   "cell_type": "markdown",
   "metadata": {},
   "source": [
    "**Доверительная граница.** Счет Z затем переводится в доверительную границу, которая иногда также на-\n",
    "зывается степенью достоверности. Площадь под кривой нормального распределения вероятности шириной в **1 стандартное отклонение** с каждой стороны от среднего значения равна 68% всей площади под этой кривой. Преобразуем счет Z в доверительную границу. Связь счета Z и доверительной границы следующая: счет Z является числом стандартных отклонений от среднего значения, а доверительная граница является долей площади под кривой, заполненной при таком числе стандартных отклонений."
   ]
  },
  {
   "cell_type": "code",
   "execution_count": 27,
   "metadata": {},
   "outputs": [
    {
     "data": {
      "text/html": [
       "<div>\n",
       "<style scoped>\n",
       "    .dataframe tbody tr th:only-of-type {\n",
       "        vertical-align: middle;\n",
       "    }\n",
       "\n",
       "    .dataframe tbody tr th {\n",
       "        vertical-align: top;\n",
       "    }\n",
       "\n",
       "    .dataframe thead th {\n",
       "        text-align: right;\n",
       "    }\n",
       "</style>\n",
       "<table border=\"1\" class=\"dataframe\">\n",
       "  <thead>\n",
       "    <tr style=\"text-align: right;\">\n",
       "      <th></th>\n",
       "      <th>Доверительная граница</th>\n",
       "      <th>счет Z</th>\n",
       "    </tr>\n",
       "  </thead>\n",
       "  <tbody>\n",
       "    <tr>\n",
       "      <th>0</th>\n",
       "      <td>99.73</td>\n",
       "      <td>3.00</td>\n",
       "    </tr>\n",
       "    <tr>\n",
       "      <th>1</th>\n",
       "      <td>99.00</td>\n",
       "      <td>2.58</td>\n",
       "    </tr>\n",
       "    <tr>\n",
       "      <th>2</th>\n",
       "      <td>98.00</td>\n",
       "      <td>2.33</td>\n",
       "    </tr>\n",
       "    <tr>\n",
       "      <th>3</th>\n",
       "      <td>97.00</td>\n",
       "      <td>2.17</td>\n",
       "    </tr>\n",
       "    <tr>\n",
       "      <th>4</th>\n",
       "      <td>96.00</td>\n",
       "      <td>2.05</td>\n",
       "    </tr>\n",
       "    <tr>\n",
       "      <th>5</th>\n",
       "      <td>95.45</td>\n",
       "      <td>2.00</td>\n",
       "    </tr>\n",
       "    <tr>\n",
       "      <th>6</th>\n",
       "      <td>95.00</td>\n",
       "      <td>1.96</td>\n",
       "    </tr>\n",
       "    <tr>\n",
       "      <th>7</th>\n",
       "      <td>90.00</td>\n",
       "      <td>1.64</td>\n",
       "    </tr>\n",
       "  </tbody>\n",
       "</table>\n",
       "</div>"
      ],
      "text/plain": [
       "   Доверительная граница  счет Z\n",
       "0                  99.73    3.00\n",
       "1                  99.00    2.58\n",
       "2                  98.00    2.33\n",
       "3                  97.00    2.17\n",
       "4                  96.00    2.05\n",
       "5                  95.45    2.00\n",
       "6                  95.00    1.96\n",
       "7                  90.00    1.64"
      ]
     },
     "execution_count": 27,
     "metadata": {},
     "output_type": "execute_result"
    }
   ],
   "source": [
    "std = pd.DataFrame({\n",
    "    'Доверительная граница':[99.73, 99, 98, 97, 96, 95.45, 95, 90], \n",
    "    'счет Z':[3, 2.58, 2.33, 2.17, 2.05, 2.00, 1.96, 1.64]})\n",
    "std"
   ]
  },
  {
   "cell_type": "code",
   "execution_count": 29,
   "metadata": {},
   "outputs": [],
   "source": [
    "TTS('При минимальном количестве 30 закрытых сделок мы можем рассчитать счет Z. Попытаемся узнать, сколько периодов выигрышей (проигрышей) можно ожидать от данной \\\n",
    "системы? Соответствуют ли периоды выигрыша (проигрыша) тестируемой системы ожидаемым? Если нет, существует ли достаточно высокая доверительная граница, чтобы \\\n",
    "допустить, что между сделками существует зависимость, т.е. зависит ли результат текущей сделки от результата предыдущих сделок? Ниже приведено уравнение серийного \\\n",
    "теста. Счет Z для торговой системыравен:')"
   ]
  },
  {
   "cell_type": "markdown",
   "metadata": {},
   "source": [
    "(1.01)  \n",
    "$$Z=\\frac{N * (R-0,5)-Х)}{\\large{\\sqrt{Х * (Х - N)\\over{N - 1}}}}$$\n",
    "где:\n",
    "$N$ = общее число сделок в последовательности;\n",
    "\n",
    "$R$ = общее число серий выигрышных или проигрышных сделок;\n",
    "\n",
    "$X = 2 * W * L$;\n",
    "\n",
    "$W$ = общее число выигрышных сделок в последовательности;\n",
    "\n",
    "$L$ = общее число проигрышных сделок в последовательности."
   ]
  },
  {
   "cell_type": "code",
   "execution_count": 116,
   "metadata": {},
   "outputs": [],
   "source": [
    "def calc_Z(trades):\n",
    "    N = len(trade) # Рассчитываем общее число сделок в последовательности\n",
    "    W = len(list(filter(lambda x: x > 0, trades))) # Рассчитываем общее число выигрышных сделок в последовательности\n",
    "    L = len(list(filter(lambda x: x <= 0, trades))) # Рассчитываем общее число проигрышных сделок в последовательности\n",
    "    X = 2 * W * L\n",
    "    profit = sum(trades)  # чистая прибыль\n",
    "    R = n_series(trades) # Рассчитываем число серий R\n",
    "    Z = (N * (R-0.5) - X)/((X * (X - N))/(N - 1))**0.5 # Рассчитываем счет Z\n",
    "    \n",
    "    print(f'1. Последовательность: {trades}')\n",
    "    print(f'2. Общее число сделок: {N}')\n",
    "    print(f'3. Число выигрышных сделок: {W}')\n",
    "    print(f'4. Число проигрышных сделок: {L}')\n",
    "    print(f'5. Чистая прибыль: {profit}')\n",
    "    print(f'6. X: {X}')\n",
    "    print(f'7. Число серий R: {R}')\n",
    "    print(f'8. Счет Z: {Z}')\n",
    "    return Z"
   ]
  },
  {
   "cell_type": "code",
   "execution_count": 112,
   "metadata": {},
   "outputs": [],
   "source": [
    "def n_series(trades): \n",
    "    '''Функция расчета серии R'''\n",
    "    lt = list(trades)\n",
    "    r = 1\n",
    "    for n in range(len(lt)):\n",
    "        if lt[n] == 0:\n",
    "            lt[n] = -1\n",
    "    for i in range(1, len(lt)): \n",
    "        if np.sign(lt[i]) != np.sign(lt[i-1]):\n",
    "            r += 1\n",
    "    return r"
   ]
  },
  {
   "cell_type": "code",
   "execution_count": 117,
   "metadata": {},
   "outputs": [
    {
     "name": "stdout",
     "output_type": "stream",
     "text": [
      "1. Последовательность: [-3, 2, 7, -4, 1, -1, 1, 6, -1, 0, -2, 1]\n",
      "2. Общее число сделок: 12\n",
      "3. Число выигрышных сделок: 6\n",
      "4. Число проигрышных сделок: 6\n",
      "5. Чистая прибыль: 7\n",
      "6. X: 72\n",
      "7. Число серий R: 8\n",
      "8. Счет Z: 0.9082951062292475\n"
     ]
    }
   ],
   "source": [
    "# Пример расчета:\n",
    "trades = [-3, +2, +7, -4, +1, -1, +1, +6, -1, 0, -2, +1] # Предположим, что произошли данные сделки\n",
    "Z = calc_Z(trades)"
   ]
  },
  {
   "cell_type": "markdown",
   "metadata": {},
   "source": [
    "Теперь преобразуем наш счет Z в доверительную границу. Распределение периодов является биномиальным распределением. Однако когда рассматриваются 30 или больше сделок, мы можем использовать нормальное распределение, как близкое к биномиальному. Таким образом, если вы используете 30 или более сделок, вы просто можете преобразовать ваш счет Z в доверительную границу, основываясь на уравнении (3.22) для нормального распределения.\n",
    "\n",
    "(3.22)  \n",
    "$$Confidence limit = 1 - ((1 - N * abc(Z) * 2)$$"
   ]
  },
  {
   "cell_type": "code",
   "execution_count": 129,
   "metadata": {},
   "outputs": [
    {
     "name": "stdout",
     "output_type": "stream",
     "text": [
      "Доверительная граница = 20.79908254950194\n"
     ]
    }
   ],
   "source": [
    "𝐶𝑜𝑛𝑓𝑖𝑑𝑒𝑛𝑐𝑒𝑙𝑖𝑚𝑖𝑡 = 1-((1- 12*abs(0.9082951062292475)) * 2)\n",
    "print(f'Доверительная граница = {𝐶𝑜𝑛𝑓𝑖𝑑𝑒𝑛𝑐𝑒𝑙𝑖𝑚𝑖𝑡}')"
   ]
  },
  {
   "cell_type": "markdown",
   "metadata": {},
   "source": [
    "Серийный тест подскажет вам, содержит ли ваша последовательность выигрышей и проигрышей больше или меньше полос (серий выигрышей или проигрышей, чем можно было бы ожидать от действительно случайной последовательности, в которой нет зависимости между испытаниями. Так как в нашем случае мы находимся на уровне относительно низкой доверительной границы, то можно допустить, что между сделками в этой последовательности нет зависимости."
   ]
  },
  {
   "cell_type": "markdown",
   "metadata": {},
   "source": [
    "Какой уровень доверительной границы считать приемлемым? Статистики, как правило, рекомендуют доверительную границу не менее 90%. Некоторые рекомендуют доверительную границу свыше 99%, чтобы быть уверенными, что зависимость существует, другие рекомендуют менее строгий минимум 95,45% (2 стандартных отклонения)."
   ]
  },
  {
   "cell_type": "markdown",
   "metadata": {},
   "source": [
    "До настоящего момента мы смотрели на зависимость только с точки зрения того, была ли последняя сделка выигрышем или проигрышем. Теперь мы попытаемся определить, есть ли в\n",
    "последовательности выигрышей и проигрышей зависимость или нет. Серийный тест на наличие зависимости автоматически принимает в расчет процент выигрышей и проигрышей. Однако серийный тест по периодам выигрышей и проигрышей учитывает последовательность выигрышей и проигрышей, но не их размер. Для того чтобы получить истинную независимость, не только сама последовательность выигрышей и проигрышей должна быть независимой, но и размеры выигрышей и проигрышей в последовательности также должны быть независимыми."
   ]
  },
  {
   "cell_type": "markdown",
   "metadata": {},
   "source": [
    "Выигрыши и проигрыши могут быть независимыми, однако их размеры могут зависеть от результатов предыдущей сделки (или наоборот).\n",
    "Возможным решением является проведение серийного теста только с выигрышными сделками. При этом полосы выигрышей следует разделить на длинные (по сравнению со средним значением распределения вероятности) и менее длинные. Только затем надо искать зависимость между размером выигрышных сделок, после этого необходимо провести ту же процедуру с проигрышными сделками."
   ]
  },
  {
   "cell_type": "markdown",
   "metadata": {},
   "source": [
    "#### Корреляция"
   ]
  },
  {
   "cell_type": "markdown",
   "metadata": {},
   "source": [
    "Есть другой, и, может быть, лучший способ определения зависимости между размерами выигрышей и проигрышей. Этот метод позволяет рассмотреть размеры\n",
    "выигрышей и проигрышей с совершенно другой стороны, и когда он используется вместе с серийным f тестом, то взаимосвязь сделок измеряется с большей глубиной. Для количественной оценки зависимости или независимости данный метод использует коэффициент линейной корреляции г, который иногда называют пирсоновским r. Посмотрите на рисунок 1-2. На нем изображены две абсолютно коррелированные последовательности. Мы называем это положительной корреляцией."
   ]
  },
  {
   "cell_type": "markdown",
   "metadata": {},
   "source": [
    "<img src=\"1-2.png\" width=\"400\">\n",
    "Теперь посмотрите на рисунок 1-3. Он показывает две последовательности, которые находятся точно в противофазе. Когда одна линия идет вверх, другая\n",
    "следует вниз (и наоборот). Мы называем это отрицательной корреляцией. \n",
    "<img src=\"1-3.png\" width=\"400\">\n",
    "Рисунок 1-3 Отрицательная корреляция (r = -1,00)"
   ]
  },
  {
   "cell_type": "markdown",
   "metadata": {},
   "source": [
    "Формула для коэффициента линейной корреляции г двух последовательностей Х и Y такова (черта над переменной обозначает среднее арифметическое значение):\n",
    "\n",
    "(1.02)\n",
    "$$R=\\frac{\\sum_{a}(X_{a} - \\overline{X}) * (Y_{a} - \\overline{Y})}{\\sqrt{\\sum_{a}(X_{a} - \\overline{X})^2} * \\sqrt{\\sum_{a}(Y_{a} - \\overline{Y})^2}}$$ \n",
    "\n",
    "Значение г всегда будет между +1,00 и -1,00. Значение 0 указывает, что корреляции нет."
   ]
  },
  {
   "cell_type": "markdown",
   "metadata": {},
   "source": [
    "Теперь посмотрите на рисунок 1-4. Он представляет следующую последова тельность из 21 сделки:\n",
    "\n",
    "1,2,1,-1, 3,2,-1,-2,-3,1,-2,3,1,1,2,3,3,-1,2,-1,3\n",
    "\n",
    "Чтобы понять, есть ли какая-либо зависимость между предыдущей и текущей сделкой, мы можем использовать коэффициент линейной корреляции. Для значений Х в формуле для г возьмем P&L по каждой сделке. Для значений Y в формуле для г возьмем ту же самую последовательность P&L, только смещенную на одну сделку. Другими словами, значение Y — это предыдущее значение X. (См. рисунок 1-5.)."
   ]
  },
  {
   "cell_type": "code",
   "execution_count": 519,
   "metadata": {},
   "outputs": [
    {
     "name": "stderr",
     "output_type": "stream",
     "text": [
      "No handles with labels found to put in legend.\n"
     ]
    },
    {
     "data": {
      "image/png": "[encoded data removed]",
      "text/plain": [
       "<Figure size 1080x720 with 1 Axes>"
      ]
     },
     "metadata": {
      "needs_background": "light"
     },
     "output_type": "display_data"
    },
    {
     "name": "stdout",
     "output_type": "stream",
     "text": [
      "Это наш коэффициент линейной корреляции R: 0.011322498169280415\n"
     ]
    }
   ],
   "source": [
    "sequence = [1,2,1,-1, 3,2,-1,-2,-3,1,-2,3,1,1,2,3,3,-1,2,-1,3]\n",
    "X = sequence[1:]\n",
    "Y = sequence[:-1]\n",
    "dX = X - np.mean(X)\n",
    "dY = Y - np.mean(Y)\n",
    "r = np.sum(dX * dY) / (np.sqrt(np.sum(dX**2)) * np.sqrt(np.sum(dY**2)))\n",
    "pd.DataFrame({'$X$':X, '$Y$':Y, '$X - \\overline{X}$': dX, '$Y - \\overline{Y}$': dY})\n",
    "plt.subplots(figsize=(15, 10))\n",
    "plt.title('Рисунок 1-5 Отдельные результаты 21 сделки, сдвинутые на 1 сделку')\n",
    "plt.plot(X)\n",
    "plt.plot(Y)\n",
    "plt.legend(loc = 2, prop={'size': 8}); plt.xlabel('Номер сделки'); plt.ylabel('Результат сделки');\n",
    "plt.grid(linewidth=0.5, alpha = 0.5)\n",
    "plt.show();\n",
    "print(f'Это наш коэффициент линейной корреляции R: {r}')"
   ]
  },
  {
   "cell_type": "code",
   "execution_count": 225,
   "metadata": {},
   "outputs": [
    {
     "data": {
      "text/plain": [
       "0.011322498169280429"
      ]
     },
     "execution_count": 225,
     "metadata": {},
     "output_type": "execute_result"
    }
   ],
   "source": [
    "np.corrcoef(X, Y)[0,1] # проверка через numpy"
   ]
  },
  {
   "cell_type": "markdown",
   "metadata": {},
   "source": [
    "В данном случае коэффициент линейной корреляции 0,011322 едва ли о чем-то говорит, но для многих торговых систем он может достигать больших значений. Высокая положительная корреляция (по крайней мере, 0,25) говорит о том, что большие выигрыши редко сменяются большими проигрышами, и наоборот. Отрицательные значения коэффициента\n",
    "корреляции (между -0,25 и -0,30) подразумевают, что после больших проигрышей следуют большие выигрыши, и наоборот. Для заданного количества сделок с помощью метода, известного как «Трансформация Z Фишера», коэффициент корреляции можно преобразовать в доверительный уровень"
   ]
  },
  {
   "cell_type": "markdown",
   "metadata": {},
   "source": [
    "Отрицательную корреляцию так же, как и положительную, можно использовать в своих интересах. Например, если обнаружена отрицательная корреляция и система показала большой проигрыш, то в следующей сделке можно ожидать большой выигрыш и таким образом открыть больше контрактов, чем обычно. Если и эта сделка принесет убыток, то он не должен быть очень большим (из-за отрицательной корреляции)."
   ]
  },
  {
   "cell_type": "markdown",
   "metadata": {},
   "source": [
    "Наконец, при определении зависимости вы должны провести тесты по разным сегментам данных. Для этого разбейте ваши данные на две или более частей. Если вы увидите зависимость в первой части, тогда посмотрите, существует ли эта зависимость во второй части, и так далее. Это поможет исключить случаи, где появляется кажущаяся зависимость, но фактически ее нет. Использование этих двух инструментов (серийный тест и коэффициент линейной корреляции) поможет ответить на многие вопросы, однако только в том случае, если у вас есть достаточно высокая доверительная граница и/или достаточно высокий коэффициент корреляции. Большую часть времени эти инструменты вряд ли будут\n",
    "вам полезны, так как слишком часто во фьючерсных торговых системах зависимость отсутствует. Если вы получите данные, указывающие на зависимость, то следует обязательно воспользоваться этим обстоятельством в торговле, вернуться и включить новое правило в торговую логику"
   ]
  },
  {
   "cell_type": "markdown",
   "metadata": {},
   "source": [
    "Чтобы узнать о зависимости больше, прочитайте приложение С: «Подробнее о зависимости: разворотные точки и тест длины фазы». Мы рассмотрели зависимость в отношении торговых прибылей и убытков. Можно также поискать зависимость между индикатором и последующей сделкой или между любыми двумя переменными. Чтобы узнать больше об этих концепциях, посмотрите приложение В, а именно: раздел «Биномиальное распределение», посвященный статистической оценке торговой системы."
   ]
  },
  {
   "cell_type": "markdown",
   "metadata": {},
   "source": [
    "**Первой ступенью в управлении деньгами является использование и, следовательно, удаление любой зависимости в сделках.**"
   ]
  },
  {
   "cell_type": "markdown",
   "metadata": {},
   "source": [
    "#### Обычные ошибки в отношении зависимости"
   ]
  },
  {
   "cell_type": "markdown",
   "metadata": {},
   "source": [
    "В большинстве рыночных систем зависимости не существует, или иначе: результат следующей сделки не предсказуем на\n",
    "основе результата (результатов) предыдущих сделок\n",
    "Это не значит, что в рыночных системах никогда не бывает зависимости между сделками\n",
    "Таким образом мы должны убедится есть зависимость или нет выше перечисленными методами\n",
    "\n",
    "Соответственно ошибки:\n",
    "1. Первого рода: мы можем отвергнуть верную гипотезу: не ограть на этой системе (например, установить что  уравнение регрессии является значимым, но в реалности это не так)\n",
    "2. Второго роду: принятие ложной гипотезы: играть на торговой системе, и в конечном итоге проиграть\n",
    "\n",
    "Eсли мы допустим, что зависимости нет, а она на самом деле есть, то совершим первую ошибку и упустим прибыль. В ситуации, когда мы торгуем лучше совершить ошибку первого рода (упущенная прибыль), чем ошибку второго рода (убыток)"
   ]
  },
  {
   "cell_type": "code",
   "execution_count": 229,
   "metadata": {},
   "outputs": [],
   "source": [
    "#код для проверки значисмости 2х временных рядов\n",
    "def sum_of_squares(samples: np.ndarray) -> float:\n",
    "    return ((samples - samples.mean()) ** 2).sum()\n",
    "def f_chose(x, y):\n",
    "    factor = pd.DataFrame(x).columns\n",
    "    ones = np.ones((x.shape[0], 1))\n",
    "    x = np.column_stack((ones, x))\n",
    "    XTX = x.T.dot(x)\n",
    "    det = np.linalg.det(XTX)\n",
    "    XTX_inv = np.linalg.inv(XTX)\n",
    "    b = XTX_inv.dot(x.T).dot(y)\n",
    "    z = x.dot(b)\n",
    "    e = y - z\n",
    "    ae = e.mean()\n",
    "#     print('average error = ', float(ae))\n",
    "    R = 1 - sum_of_squares(e) / sum_of_squares(y)\n",
    "#     print('R =', float(R))\n",
    "    z.var(), y.var()\n",
    "    n = x.shape[0]\n",
    "    m = 1\n",
    "    k1 = m\n",
    "    k2 = n - m - 1\n",
    "    k1, k2\n",
    "    alpha = 0.05\n",
    "    t = stats.f.ppf(1 - alpha, k1, k2)\n",
    "#     print('quantile =', t)\n",
    "    F = (R / k1) / ((1 - R) / k2)\n",
    "#     print('statistic=', float(F))\n",
    "    significancy = ''\n",
    "    if float(F) > float(t):\n",
    "        significancy = 'уравнение регрессии признаётся значимым'\n",
    "    else:\n",
    "        significancy = 'уравнение регрессии НЕ признаётся значимым'\n",
    "       \n",
    "    info = {'factor': factor, 'determ': det, 'average error': float(ae), 'R': float(R), 'statistic':float(F), 'significancy': significancy}\n",
    "    return info"
   ]
  },
  {
   "cell_type": "code",
   "execution_count": 243,
   "metadata": {},
   "outputs": [
    {
     "data": {
      "text/plain": [
       "{'factor': RangeIndex(start=0, stop=1, step=1),\n",
       " 'determ': 1464.000000000001,\n",
       " 'average error': -2.2204460492503132e-17,\n",
       " 'R': 0.00012819896479343562,\n",
       " 'statistic': 0.002307877233754079,\n",
       " 'significancy': 'уравнение регрессии НЕ признаётся значимым'}"
      ]
     },
     "execution_count": 243,
     "metadata": {},
     "output_type": "execute_result"
    }
   ],
   "source": [
    "# проверим значимость зависимости X и Y\n",
    "from scipy import stats\n",
    "df_x = pd.DataFrame(X)\n",
    "df_y = pd.DataFrame(Y)\n",
    "f_chose(df_x, df_y)"
   ]
  },
  {
   "cell_type": "markdown",
   "metadata": {},
   "source": [
    "Допустим, что в системе с историей из 60 сделок на основе серийного теста обнаружена зависимость с доверительным уровнем 95%. Мы хотим, чтобы наша система была оптимальной, поэтому соответствующим образом изменяем ее правила, чтобы использовать замеченную зависимость. Предположим, после этого у нас остается 40 сделок, и зависимости больше нет, в результате, мы приходим к выводу, что правила системы оптимальны. Теперь при 40 сделках мы получаем более высокое оптимальное f, чем при 60 (более подробно об оптимальном f — далее в этой главе). Если вы будете торговать по этой системе с новыми правилами, использующими зависимость, применяя более высокое сопутствующее оптимальное f, а зависимости на самом деле нет, то результат будет ближе к 60 сделкам, чем к 40 сделкам, в которых были показаны лучшие результаты. Таким образом, f, которое вы выбрали, будет сдвинуто вправо, что выразится в потерях, которые вы понесете из-за того, что предположили зависимость. Если зависимость присутствует, тогда вы будете ближе к пику кривой f, допускающей, что зависимость существует. Если бы вы решили, что зависимости нет, когда фактически она есть, то вы были бы слева от пика кривой f, и ваша система была бы подоптимальной (но вы потеряете меньше, чем если бы были справа от пика)."
   ]
  },
  {
   "cell_type": "markdown",
   "metadata": {},
   "source": [
    "Короче говоря, ищите зависимость. Если она обнаружится с достаточно высокой вероятностью, тогда измените правила системы, чтобы использовать эту зависимость. В противном случае, при отсутствии убедительного статистического доказательства зависимости, считайте, что ее не существует (и вы понесете меньшие потери, если фактически зависимость все же существует)."
   ]
  },
  {
   "cell_type": "markdown",
   "metadata": {},
   "source": [
    "#### Математическое ожидание"
   ]
  },
  {
   "cell_type": "markdown",
   "metadata": {},
   "source": [
    "Лучше не торговать, пока не будет убедительных доказательств того, что рыночная система, по которой вы собираетесь торговать, при-\n",
    "быльна, то есть пока вы не будете уверены, что рыночная система имеет положительное **математическое ожидание**."
   ]
  },
  {
   "cell_type": "markdown",
   "metadata": {},
   "source": [
    "Математическое ожидание является суммой, которую вы можете заработать или проиграть, в среднем, по каждой ставке. На языке азартных игроков это иногда называется «преимуществом игрока» (если оно положительно для игрока) или «преимуществом казино» (если оно отрицательно для игрока):\n",
    "\n",
    "$$Математическое ожидание = \\sum_{i=1}^{N}(P_{i} * A_{i})$$\n",
    "\n",
    "где:\n",
    "где Р = вероятность выигрыша или проигрыша;\n",
    "А = выигранная или проигранная сумма;\n",
    "N = количество возможных результатов."
   ]
  },
  {
   "cell_type": "markdown",
   "metadata": {},
   "source": [
    "Давайте рассмотрим математическое ожидание игры, где у вас есть 50% шансов выиграть 2 доллара и 50% шансов проиграть 1 доллар:"
   ]
  },
  {
   "cell_type": "code",
   "execution_count": 248,
   "metadata": {},
   "outputs": [
    {
     "name": "stdout",
     "output_type": "stream",
     "text": [
      "Математическое ожидание = 0.5\n"
     ]
    }
   ],
   "source": [
    "P1 = P2 = 0.5 # вероятности выигрыша и проигрыша одинаковые 50:\n",
    "А_win = 2 #  сумма в случае выигрыша\n",
    "А_loss = -1 #  сумма в случае проигрыша\n",
    "\n",
    "print(f'Математическое ожидание = {P1*А_win + P2*А_loss}')"
   ]
  },
  {
   "cell_type": "code",
   "execution_count": 1375,
   "metadata": {},
   "outputs": [
    {
     "data": {
      "text/plain": [
       "0.5"
      ]
     },
     "execution_count": 1375,
     "metadata": {},
     "output_type": "execute_result"
    }
   ],
   "source": [
    "# сделаем функцию:\n",
    "def math_exp(p1,p2,win,loss):\n",
    "    return round((p1*win + p2*loss),2)\n",
    "math_exp(0.5,0.5,2,-1)"
   ]
  },
  {
   "cell_type": "markdown",
   "metadata": {},
   "source": [
    "В таком случае ваше математическое ожидание — выигрыш 50 центов, в среднем, забросок"
   ]
  },
  {
   "cell_type": "markdown",
   "metadata": {},
   "source": [
    "Рассмотрим ставку на один номер в рулетке:"
   ]
  },
  {
   "cell_type": "code",
   "execution_count": 249,
   "metadata": {},
   "outputs": [
    {
     "name": "stdout",
     "output_type": "stream",
     "text": [
      "Математическое ожидание = -0.052631578947368474\n"
     ]
    }
   ],
   "source": [
    "P1 = 1/38 # выигрыш\n",
    "P2 = 37/38 # проигрыш\n",
    "А_win = 35 #  сумма в случае выигрыша\n",
    "А_loss = -1 #  сумма в случае проигрыша\n",
    "print(f'Математическое ожидание = {P1*А_win + P2*А_loss}')"
   ]
  },
  {
   "cell_type": "markdown",
   "metadata": {},
   "source": [
    "Если вы поставите 1 доллар на номер в рулетке (американский двойной ноль), то можете ожидать проигрыш, в среднем, 5,26 центов на один круг. Если вы\n",
    "поставите 5 долларов, то можете ожидать проигрыш, в среднем, 26,3 цента на один круг. Отметьте, что различные ставки имеют различное математическое ожидание в денежном выражении, но в процентном отношении от ставки оно всегда одинаково. Ожидание серии ставок является суммой значений ожиданий отдельных ставок. Поэтому если при игре в рулетку вы ставите 1 доллар на число, затем 10 долларов на число, затем 5 долларов на число, то вашим\n",
    "общим ожиданием будет:"
   ]
  },
  {
   "cell_type": "code",
   "execution_count": 251,
   "metadata": {},
   "outputs": [
    {
     "name": "stdout",
     "output_type": "stream",
     "text": [
      "Математическое ожидание = -0.8421052631578956\n"
     ]
    }
   ],
   "source": [
    "math_expect = -0.052631578947368474\n",
    "series_bets = [1,10,5]\n",
    "print(f'Математическое ожидание = {np.sum(math_expect*np.array(series_bets))}')"
   ]
  },
  {
   "cell_type": "markdown",
   "metadata": {},
   "source": [
    "Таким образом, следует ожидать проигрыш 84,16 цента. Этот принцип объясняет, почему системы, в которых пытаются изменить размер ставок в зависимости от\n",
    "того, сколько проигрышей или выигрышей было (допуская процесс независимых испытаний), считаются проигрышными. **Сумма отрицательных ожиданий по ставкам всегда является отрицательным ожиданием!**"
   ]
  },
  {
   "cell_type": "markdown",
   "metadata": {},
   "source": [
    "**В отношении управления капиталом очень важно понимать, что при игре с отрицательным ожиданием нет схемы управления деньгами, которая может сделать вас победителем. Если вы продолжаете играть, то независимо от способа управления деньгами вы проиграете весь ваш счет, каким бы большим он ни был в начале.**"
   ]
  },
  {
   "cell_type": "markdown",
   "metadata": {},
   "source": [
    "Эта аксиома верна не только для игры с отрицательным ожиданием, она истинна также для игры с равными шансами. Поэтому единственный случай, когда у вас есть шанс выиграть в долгосрочной перспективе, — это игра с положительным математическим ожиданием."
   ]
  },
  {
   "cell_type": "markdown",
   "metadata": {},
   "source": [
    "Кроме того, вы можете выиграть только в двух случаях. Во-первых, при использовании ставки одинакового размера, во-вторых, используя ставки при f, меньшем чем значение f, соответствующего точке, в которой среднее геометрическое HPR становится равным или меньшим 1.\n",
    "\n",
    "где **HPR - прибыль за период удержания позиции (holding period returns)**. Таким образом, сделке, которая принесла 10% прибыли, соответствует HPR = 1 + 0,10 = 1,10. Аналогично, сделке, по которой получился убыток 10%, соответствует HPR = 1 + (-0,10) = 0,90."
   ]
  },
  {
   "cell_type": "markdown",
   "metadata": {},
   "source": [
    "**Не имеет значения, насколько положительное или насколько отрицательное ожидание; важно только то, положительное оно или\n",
    "отрицательное. Поэтому до рассмотрения вопросов управления капиталом вы должны найти игру с положительным ожиданием.**"
   ]
  },
  {
   "cell_type": "markdown",
   "metadata": {},
   "source": [
    "Наиболее важное приготовление, которое может сделать трейдер, — это убедиться в том, что система покажет положительное математическое ожидание в будущем"
   ]
  },
  {
   "cell_type": "markdown",
   "metadata": {},
   "source": [
    "Очень важно не ограничивать степени свободы вашей системы. Каждый параметр, который вы добавляете, каждое правило, которое вы вносите, каждое мельчайшее изменение, которое вы делаете в системе, сокращает число степеней свободы"
   ]
  },
  {
   "cell_type": "markdown",
   "metadata": {},
   "source": [
    "**Торговая система — это просто средство, которое дает вам положительное математическое ожидание, чтобы можно было использовать управление деньгами.** Системы, которые работают (показывают, по крайней мере, минимальную прибыль) только на одном или нескольких рынках или имеют различные правила или параметры для различных рынков, вероятнее всего, не будут работать в режиме реального времени достаточно долго. Проблема большинства технически ориентированных трейдеров состоит в том, что они тратят слишком\n",
    "много времени и усилий на оптимизацию различных правил и значений параметров торговой системы. Это дает совершенно противоположные результаты. Вместо того, чтобы тратить силы и компьютерное время на увеличение прибылей торговой системы, направьте энергию на увеличение уровня надежности получения минимальной прибыли."
   ]
  },
  {
   "cell_type": "markdown",
   "metadata": {},
   "source": [
    "#### Реинвестировать торговые прибыли или нет"
   ]
  },
  {
   "cell_type": "markdown",
   "metadata": {},
   "source": [
    "Давайте назовем следующую систему «Система А». Она состоит из 2 сделок: первая выигрывает 50%, вторая проигрывает 40%. Если мы не реинвестируем прибыль, то выигрываем 10%, если реинвестируем, та же последовательность сделок дает проигрыш 10%.\n",
    "**P&L** - Распределение торговых прибылей и убытков"
   ]
  },
  {
   "cell_type": "code",
   "execution_count": 290,
   "metadata": {},
   "outputs": [],
   "source": [
    "def total(pl, start_capital, reinvest=False):\n",
    "    '''функция считает прибыль от последовательности \n",
    "    сделок без реинвестиций и с реинвестициями'''\n",
    "    trades = []\n",
    "    total = start_capital\n",
    "    trades.append(total)\n",
    "    if reinvest:\n",
    "        for t in pl:\n",
    "            total += (t/100)*total\n",
    "            trades.append(total)\n",
    "            \n",
    "    else:\n",
    "        for t in pl:\n",
    "            total += (t/100)*start_capital\n",
    "            trades.append(total)\n",
    "    return trades"
   ]
  },
  {
   "cell_type": "code",
   "execution_count": 292,
   "metadata": {},
   "outputs": [
    {
     "data": {
      "text/html": [
       "<div>\n",
       "<style scoped>\n",
       "    .dataframe tbody tr th:only-of-type {\n",
       "        vertical-align: middle;\n",
       "    }\n",
       "\n",
       "    .dataframe tbody tr th {\n",
       "        vertical-align: top;\n",
       "    }\n",
       "\n",
       "    .dataframe thead th {\n",
       "        text-align: right;\n",
       "    }\n",
       "</style>\n",
       "<table border=\"1\" class=\"dataframe\">\n",
       "  <thead>\n",
       "    <tr style=\"text-align: right;\">\n",
       "      <th></th>\n",
       "      <th>Без реинвестирования</th>\n",
       "      <th>C реинвестированием</th>\n",
       "    </tr>\n",
       "  </thead>\n",
       "  <tbody>\n",
       "    <tr>\n",
       "      <th>0</th>\n",
       "      <td>100.0</td>\n",
       "      <td>100.0</td>\n",
       "    </tr>\n",
       "    <tr>\n",
       "      <th>1</th>\n",
       "      <td>150.0</td>\n",
       "      <td>150.0</td>\n",
       "    </tr>\n",
       "    <tr>\n",
       "      <th>2</th>\n",
       "      <td>110.0</td>\n",
       "      <td>90.0</td>\n",
       "    </tr>\n",
       "  </tbody>\n",
       "</table>\n",
       "</div>"
      ],
      "text/plain": [
       "   Без реинвестирования  C реинвестированием\n",
       "0                 100.0                100.0\n",
       "1                 150.0                150.0\n",
       "2                 110.0                 90.0"
      ]
     },
     "execution_count": 292,
     "metadata": {},
     "output_type": "execute_result"
    }
   ],
   "source": [
    "A_pl = [50,-40] # поток  P&L% системы А\n",
    "start_capital = 100\n",
    "pd.DataFrame({'Без реинвестирования':total(A_pl, start_capital), \n",
    "              'C реинвестированием':total(A_pl, start_capital, reinvest=True)\n",
    "             })"
   ]
  },
  {
   "cell_type": "markdown",
   "metadata": {},
   "source": [
    "Теперь давайте посмотрим на систему В (выигрыш 15% и проигрыш 5%), которая так же, как и система А, приносит 10% за 2 сделки при отсутствии реинвестирования. Но посмотрите на результаты системы В при реинвестировании: в отличие от системы А она зарабатывает деньги."
   ]
  },
  {
   "cell_type": "code",
   "execution_count": 294,
   "metadata": {},
   "outputs": [
    {
     "data": {
      "text/html": [
       "<div>\n",
       "<style scoped>\n",
       "    .dataframe tbody tr th:only-of-type {\n",
       "        vertical-align: middle;\n",
       "    }\n",
       "\n",
       "    .dataframe tbody tr th {\n",
       "        vertical-align: top;\n",
       "    }\n",
       "\n",
       "    .dataframe thead th {\n",
       "        text-align: right;\n",
       "    }\n",
       "</style>\n",
       "<table border=\"1\" class=\"dataframe\">\n",
       "  <thead>\n",
       "    <tr style=\"text-align: right;\">\n",
       "      <th></th>\n",
       "      <th>Без реинвестирования</th>\n",
       "      <th>C реинвестированием</th>\n",
       "    </tr>\n",
       "  </thead>\n",
       "  <tbody>\n",
       "    <tr>\n",
       "      <th>0</th>\n",
       "      <td>100.0</td>\n",
       "      <td>100.00</td>\n",
       "    </tr>\n",
       "    <tr>\n",
       "      <th>1</th>\n",
       "      <td>115.0</td>\n",
       "      <td>115.00</td>\n",
       "    </tr>\n",
       "    <tr>\n",
       "      <th>2</th>\n",
       "      <td>110.0</td>\n",
       "      <td>109.25</td>\n",
       "    </tr>\n",
       "  </tbody>\n",
       "</table>\n",
       "</div>"
      ],
      "text/plain": [
       "   Без реинвестирования  C реинвестированием\n",
       "0                 100.0               100.00\n",
       "1                 115.0               115.00\n",
       "2                 110.0               109.25"
      ]
     },
     "execution_count": 294,
     "metadata": {},
     "output_type": "execute_result"
    }
   ],
   "source": [
    "B_pl = [15,-5] # поток  P&L% системы В\n",
    "start_capital = 100\n",
    "pd.DataFrame({'Без реинвестирования':total(B_pl, start_capital), \n",
    "              'C реинвестированием':total(B_pl, start_capital, reinvest=True)\n",
    "             })"
   ]
  },
  {
   "cell_type": "markdown",
   "metadata": {},
   "source": [
    "Важно понимать, что при торговле с реинвестированием выигрышная система может превратиться в проигрышную систему, но не наоборот! Выигрышная система превращается в проигрышную систему при торговле с реинвестированием, если доходы недостаточно последовательны.\n",
    "Изменение порядка или последовательности сделок не влияет на окончательный результат. Это не только верно при отсутствии реинвестирования, но и при реинвестировании (хотя многие ошибочно полагают, что это не так)."
   ]
  },
  {
   "cell_type": "markdown",
   "metadata": {},
   "source": [
    "**Если система достаточно эффективна, то прибыли, полученные на основе реинвестирования, будут намного больше прибылей, полученных без инвестирования**"
   ]
  },
  {
   "cell_type": "markdown",
   "metadata": {},
   "source": [
    "#### Изменение степени пригодности системы для реинвестирования посредством среднего геометрического."
   ]
  },
  {
   "cell_type": "code",
   "execution_count": 556,
   "metadata": {},
   "outputs": [],
   "source": [
    "#перепишем функцию total так чтобы рассчитывались сразу несколько параметров\n",
    "\n",
    "def prof_calc(pl, start_capital, title_system):\n",
    "    '''функция считает прибыль от последовательности \n",
    "    сделок без реинвестиций и с реинвестициями'''\n",
    "    \n",
    "    no_reinvest_trade = []\n",
    "    no_reinvest_pl = []\n",
    "    reinvest_trade = []\n",
    "    reinvest_pl = []\n",
    "    \n",
    "    total_no_reinv = total_reinv = start_capital\n",
    "    \n",
    "#     no_reinvest_trade.append(start_capital)\n",
    "#     reinvest_trade.append(start_capital)\n",
    "    \n",
    "    for t in pl:\n",
    "        total_no_reinv += (t/100)*start_capital\n",
    "        no_reinvest_trade.append(total_no_reinv)\n",
    "        no_reinvest_pl.append(t)\n",
    "   \n",
    "        prev_total_reinv = total_reinv\n",
    "        total_reinv += (t/100)*total_reinv\n",
    "        reinvest_trade.append(total_reinv)\n",
    "        reinvest_pl.append((total_reinv - prev_total_reinv))\n",
    "    print(f'Система {title_system}')\n",
    "    print('-'*100)\n",
    "    print('            ', ' '*25, 'Без реинвестирования', ' '*5, 'C реинвестированием')\n",
    "    print('Номер сделки', ' '*25, 'P&L', ' '*3, 'Полный капитал', ' '*3, 'P&L', ' '*3, 'Полный капитал')\n",
    "    print('-'*100)\n",
    "    print(' '*46,  start_capital, ' '*23, start_capital)\n",
    "    for i in range(len(pl)):\n",
    "        print(' '*2, i, ' '*33, round(no_reinvest_pl[i],0), ' '*4, round(no_reinvest_trade[i],4), \n",
    "              ' '*12, round(reinvest_pl[i],4), ' '*(7 - len(str(reinvest_pl[i]))), round(reinvest_trade[i],4))\n",
    "    print('-'*100)\n",
    "    W1 = len(list(filter(lambda x: x > 0, no_reinvest_pl))) / len(no_reinvest_pl)\n",
    "    W2 = len(list(filter(lambda x: x > 0, reinvest_pl))) / len(reinvest_pl)\n",
    "    \n",
    "    n_w1 = np.sum(np.array(list(filter(lambda x: x > 0, no_reinvest_pl))))\n",
    "    n_l1 = abs(np.sum(np.array(list(filter(lambda x: x <= 0, no_reinvest_pl)))))\n",
    "    \n",
    "    n_w2 = np.sum(np.array(list(filter(lambda x: x > 0, reinvest_pl))))\n",
    "    n_l2 = abs(np.sum(np.array(list(filter(lambda x: x <= 0, reinvest_pl)))))\n",
    "    \n",
    "    if n_l1 != 0:\n",
    "        WL1 = round(n_w1/n_l1, 2)\n",
    "    else:\n",
    "        WL1 = '-'\n",
    "        \n",
    "    if n_l2 != 0:\n",
    "        WL2 = round(n_w2/n_l2, 2)\n",
    "    else:\n",
    "        WL2 = '-'    \n",
    "        \n",
    "    trade_mean_1 = np.mean(no_reinvest_pl)\n",
    "    trade_mean_2 = np.mean(reinvest_pl)\n",
    "    std_1 = np.std(no_reinvest_pl)\n",
    "    std_2 = np.std(reinvest_pl)\n",
    "    print('Процент выигрышей', ' '*28,  W1, ' '*22, W2)\n",
    "    print('Средняя сделка', ' '*31,  round(trade_mean_1,4), ' '*23, round(trade_mean_2,4))\n",
    "    print('Риск / Выигрыш', ' '*31,  WL1, ' '*23, WL2)\n",
    "    print('Стандартное отклонение', ' '*23,  round(std_1,2), ' '*23, round(std_2,2))\n",
    "    if std_1 != 0:\n",
    "        tm_std_1 = round(trade_mean_1/std_1,2)\n",
    "    else:\n",
    "        tm_std_1 = '-'\n",
    "    if std_2 != 0:\n",
    "        tm_std_2 = round(trade_mean_2/std_2,2)\n",
    "    else:\n",
    "        tm_std_2 = '-'\n",
    "        \n",
    "    print('Средняя сделка/Стандартное отклонение', ' '*8,  tm_std_1, ' '*23, tm_std_2)\n",
    "    TWR = reinvest_trade[-1]/100 # относительный конечный капитал (TWR - Terminal Wealth Relative),\n",
    "    return TWR "
   ]
  },
  {
   "cell_type": "code",
   "execution_count": 569,
   "metadata": {},
   "outputs": [
    {
     "name": "stdout",
     "output_type": "stream",
     "text": [
      "Система A\n",
      "----------------------------------------------------------------------------------------------------\n",
      "                                       Без реинвестирования       C реинвестированием\n",
      "Номер сделки                           P&L     Полный капитал     P&L     Полный капитал\n",
      "----------------------------------------------------------------------------------------------------\n",
      "                                               100                         100\n",
      "   0                                   50      150.0              50.0     150.0\n",
      "   1                                   -40      110.0              -60.0    90.0\n",
      "   2                                   2      112.0              1.8  91.8\n",
      "   3                                   -1      111.0              -0.918  90.882\n",
      "----------------------------------------------------------------------------------------------------\n",
      "Процент выигрышей                              0.5                        0.5\n",
      "Средняя сделка                                 2.75                         -2.2795\n",
      "Риск / Выигрыш                                 1.27                         0.85\n",
      "Стандартное отклонение                         31.92                         39.0\n",
      "Средняя сделка/Стандартное отклонение          0.09                         -0.06\n"
     ]
    }
   ],
   "source": [
    "A_pl = [50,-40, 2, -1] # поток  P&L% системы А\n",
    "start_capital = 100\n",
    "A_twr = prof_calc(A_pl, start_capital, 'A')"
   ]
  },
  {
   "cell_type": "code",
   "execution_count": 558,
   "metadata": {},
   "outputs": [
    {
     "name": "stdout",
     "output_type": "stream",
     "text": [
      "Система B\n",
      "----------------------------------------------------------------------------------------------------\n",
      "                                       Без реинвестирования       C реинвестированием\n",
      "Номер сделки                           P&L     Полный капитал     P&L     Полный капитал\n",
      "----------------------------------------------------------------------------------------------------\n",
      "                                               100                         100\n",
      "   0                                   15      115.0              15.0     115.0\n",
      "   1                                   -5      110.0              -5.75    109.25\n",
      "   2                                   -1      109.0              -1.0925  108.1575\n",
      "   3                                   -1      108.0              -1.0816  107.0759\n",
      "----------------------------------------------------------------------------------------------------\n",
      "Процент выигрышей                              0.25                        0.25\n",
      "Средняя сделка                                 2.0                         1.769\n",
      "Риск / Выигрыш                                 2.14                         1.89\n",
      "Стандартное отклонение                         7.68                         7.87\n",
      "Средняя сделка/Стандартное отклонение          0.26                         0.22\n"
     ]
    }
   ],
   "source": [
    "B_pl = [15, -5, -1, -1]\n",
    "start_capital = 100\n",
    "B_twr = prof_calc(B_pl, start_capital, 'B')"
   ]
  },
  {
   "cell_type": "code",
   "execution_count": 559,
   "metadata": {},
   "outputs": [
    {
     "name": "stdout",
     "output_type": "stream",
     "text": [
      "Система C\n",
      "----------------------------------------------------------------------------------------------------\n",
      "                                       Без реинвестирования       C реинвестированием\n",
      "Номер сделки                           P&L     Полный капитал     P&L     Полный капитал\n",
      "----------------------------------------------------------------------------------------------------\n",
      "                                               100                         100\n",
      "   0                                   1      101.0              1.0      101.0\n",
      "   1                                   1      102.0              1.01  102.01\n",
      "   2                                   1      103.0              1.0201  103.0301\n",
      "   3                                   1      104.0              1.0303  104.0604\n",
      "----------------------------------------------------------------------------------------------------\n",
      "Процент выигрышей                              1.0                        1.0\n",
      "Средняя сделка                                 1.0                         1.0151\n",
      "Риск / Выигрыш                                 -                         -\n",
      "Стандартное отклонение                         0.0                         0.01\n",
      "Средняя сделка/Стандартное отклонение          -                         89.89\n"
     ]
    }
   ],
   "source": [
    "C_pl = [1, 1, 1, 1]\n",
    "start_capital = 100\n",
    "C_twr = prof_calc(C_pl, start_capital, 'C')"
   ]
  },
  {
   "cell_type": "markdown",
   "metadata": {},
   "source": [
    "Система В обладает хорошим сочетанием прибыльности и стабильности. Системы А и С не обладают этими качествами. Вот почему система В работает лучше всего при торговле с реинвестированием. Каков наилучший способ измерения этого «хорошего сочетания»? Данную проблему можно решить с помощью среднего геометрического. Это просто корень N-й степени из относительного конечного капитала (TWR), где N является количеством периодов (сделок). TWR для этих рассматриваемых трех систем будут следующими:"
   ]
  },
  {
   "cell_type": "code",
   "execution_count": 564,
   "metadata": {},
   "outputs": [
    {
     "name": "stdout",
     "output_type": "stream",
     "text": [
      "Система A         0.9\n",
      "Система В         1.07075925\n",
      "Система С         1.04060401\n"
     ]
    }
   ],
   "source": [
    "print(f'Система A         {A_twr}')\n",
    "print(f'Система В         {B_twr}')\n",
    "print(f'Система С         {C_twr}')"
   ]
  },
  {
   "cell_type": "markdown",
   "metadata": {},
   "source": [
    "Так как в каждой такой системе по 4 сделки, то, чтобы получить среднее геометрическое, возьмем корень четвертой степени TWR"
   ]
  },
  {
   "cell_type": "code",
   "execution_count": 572,
   "metadata": {},
   "outputs": [
    {
     "name": "stdout",
     "output_type": "stream",
     "text": [
      "Система A         Среднее геометрическое: 0.9763813357158697\n",
      "Система В         Среднее геометрическое: 1.0172388979675129\n",
      "Система С         Среднее геометрическое: 1.01\n"
     ]
    }
   ],
   "source": [
    "print(f'Система A         Среднее геометрическое: {A_twr**(1/4)}')\n",
    "print(f'Система В         Среднее геометрическое: {B_twr**(1/4)}')\n",
    "print(f'Система С         Среднее геометрическое: {C_twr**(1/4)}')"
   ]
  },
  {
   "cell_type": "markdown",
   "metadata": {},
   "source": [
    "(1.04)\n",
    "$$TWR = \\prod\\limits_{i = 1}^N HPR_i$$ \n",
    "\n",
    "(1.05)\n",
    "$$Среднее геометрическое = TWR^{1/N}$$"
   ]
  },
  {
   "cell_type": "markdown",
   "metadata": {},
   "source": [
    "HPR = прибыль за определенный период (единица плюс уровень до хода, например HPR =1,10 означает 10% прибыль за данный период, ставку или\n",
    "сделку);\n",
    "\n",
    "TWR =количество долларов на конец серии периодов / ставок / сделок на доллар первоначальной инвестиции.\n",
    "\n",
    "Далее представлен другой способ выражения этих переменных:\n",
    "\n",
    "(1.06) TWR = (конечное состояние счета) / (начальное состояние счета) Среднее геометрическое (G) равно вашему фактору роста за игру, или:"
   ]
  },
  {
   "cell_type": "markdown",
   "metadata": {},
   "source": [
    "$$G = (\\frac{конечное состояние счета}{начальное состояние счета})^{1/количество игр}$$"
   ]
  },
  {
   "cell_type": "code",
   "execution_count": 578,
   "metadata": {},
   "outputs": [
    {
     "data": {
      "text/plain": [
       "1.01723883859148"
      ]
     },
     "execution_count": 578,
     "metadata": {},
     "output_type": "execute_result"
    }
   ],
   "source": [
    "# например для сиситемы В\n",
    "G_B_reinv = (107.0759/100)**(1/4)\n",
    "G_B_reinv"
   ]
  },
  {
   "cell_type": "markdown",
   "metadata": {},
   "source": [
    "Как мы уже сказали, среднее геометрическое — это фактор роста вашего счета за игру. Система с наибольшим средним геометрическим является системой,\n",
    "которая принесет наибольшую прибыль, если торговать на основе реинвестирования доходов. Среднее геометрическое меньше единицы означает, что система\n",
    "будет терять деньги, если вы будете торговать на основе реинвестирования."
   ]
  },
  {
   "cell_type": "markdown",
   "metadata": {},
   "source": [
    "Уравнение (1.04) можно прокомментировать следующим образом. Если HPR = 0, то вы полностью выйдете из игры, так как все, что умножается на ноль, равно\n",
    "нулю. Любая большая проигрышная сделка будет иметь самое неблагоприятное влияние на TWR, так как эта функция мультипликативна, а не аддитивна."
   ]
  },
  {
   "cell_type": "markdown",
   "metadata": {},
   "source": [
    "#### Как лучше всего реинвестировать"
   ]
  },
  {
   "cell_type": "markdown",
   "metadata": {},
   "source": [
    "До этого момента речь шла о реинвестировании 100% средств со счета. И хотя нам известно, что для максимизации потенциально прибыльной системы мы должны\n",
    "реинвестировать, использование в каждой сделке 100% капитала вряд ли разумно."
   ]
  },
  {
   "cell_type": "markdown",
   "metadata": {},
   "source": [
    "Рассмотрим игру (50/50) с броском монеты. Предположим, вам платят 2 доллара, если вы выигрываете, и теряете 1 доллар, если проигрываете. Математическое\n",
    "ожидание составляет 0,5. Другими словами, следует ожидать выигрыша 50 центов в среднем за бросок. Это верно для первого броска и для всех последующих\n",
    "бросков при условии, что вы не увеличиваете сумму ставки. Но в процессе независимых испытаний именно это и следует делать. Когда вы выигрываете, то\n",
    "должны увеличивать ставку при каждом броске."
   ]
  },
  {
   "cell_type": "markdown",
   "metadata": {},
   "source": [
    "Допустим, вы начинаете игру с одного доллара, выигрываете при первом броске и зарабатываете два доллара. При следующем броске вы также ставите весь счет (3\n",
    "доллара), однако на этот раз проигрываете и теряете 3 доллара. Вы проиграли первоначальную сумму в 1 доллар и 2 доллара, которые ранее выиграли. Если вы\n",
    "выигрываете при последнем броске, то зарабатываете 6 долларов, так как сделали 3 ставки по 1 доллару. Дело в том, что если вы используете 100% счета, то выйдете\n",
    "из игры, как только столкнетесь с проигрышем, что является неизбежным событием. Если бы мы могли переиграть предыдущий сценарий и вы делали бы ставки без реинвестирования, то выиграли бы 2 доллара при первой ставке и проиграли 1 доллар при второй. Теперь ваша чистая прибыль 1 доллар, а счет равен 2 долларам. Где-то между этими двумя сценариями находится оптимальный выбор ставок при положительном ожидании."
   ]
  },
  {
   "cell_type": "markdown",
   "metadata": {},
   "source": [
    "Однако сначала мы должны рассмотреть оптимальную стратегию ставок для игры с отрицательным ожиданием. Когда вы знаете, что игра имеет отрицательное математическое ожидание, то лучшей ставкой будет отсутствие ставки. Помните, что нет стратегии управления деньгами, которая может превратить проигрышную игру в выигрышную. Однако если вы должны сделать ставку в игре с отрицательным ожиданием, то наилучшей стратегией будет стратегия максимальной смелости. Другими словами, вам надо сделать как можно меньше ставок (в противоположность игре с положительным ожиданием, где следует ставить как можно чаще). Чем больше попыток, тем больше вероятность, что при отрицательном ожидании вы проиграете. Поэтому при отрицательном ожидании меньше возможности для проигрыша, если длина игры укорачивается (то есть когда число попыток приближается к 1)."
   ]
  },
  {
   "cell_type": "markdown",
   "metadata": {},
   "source": [
    "Если вы играете в игру, где есть шанс 49% выиграть 1 доллар и 51% проиграть 1 доллар, то лучше всего сделать только одну попытку. Чем больше ставок вы будете делать, тем больше вероятность, что вы проиграете (с вероятностью проигрыша, приближающейся к уверенности, когда игра приближается к бесконечности). Это не означает, что вы достигаете\n",
    "положительного ожидания при одной попытке, но вы, по крайней мере, минимизируете вероятность проигрыша, совершая только одну попытку. Теперь вернемся к игре с положительным ожиданием."
   ]
  },
  {
   "cell_type": "markdown",
   "metadata": {},
   "source": [
    "Мы решили в начале этой дискуссии, что в любой сделке количество контрактов, которое открывает трейдер, определяется фактором f (число между 0 и 1), что представляет собой количество контрактов, зависящее как от предполагаемого проигрыша в следующей сделке, так и от общего баланса счета."
   ]
  },
  {
   "cell_type": "markdown",
   "metadata": {},
   "source": [
    "Если вы знаете, что обладаете преимуществом при N ставках, но не знаете, какие из этих N будут выигрышами (и на какую сумму), а какие из них будут проигрышами (и на какую сумму), то лучше всего на большом отрезке времени рисковать одной и той же долей вашего счета."
   ]
  },
  {
   "cell_type": "markdown",
   "metadata": {},
   "source": [
    "Этот метод, основанный на использовании фиксированной доли вашего счета, и является лучшей системой ставок. Если в ваших сделках есть зависимость, где\n",
    "выигрыши порождают выигрыши, а проигрыши порождают проигрыши, или наоборот, тогда все равно лучше ставить определенную долю вашего общего счета, но эта доля уже не будет фиксированной. В этом случае доля счета должна отражать действие зависимости (если вы не «отпугнули» зависимость от системы, создав системные правила для ее использования)."
   ]
  },
  {
   "cell_type": "markdown",
   "metadata": {},
   "source": [
    "#### Торговля оптимальной фиксированной долей"
   ]
  },
  {
   "cell_type": "markdown",
   "metadata": {},
   "source": [
    "Все, о чем мы говорили выше, подготовило основу для этого раздела. Мы теперь знаем, что перед тем, как обсуждать величину ставок на данном рынке или в сис- теме, надо понять, есть ли у вас положительное математическое ожидание. Мы увидели, что так называемая «хорошая система» (когда математическое ожидание имеет положительное значение) фактически может быть не такой уж и хорошей при реинвестировании доходов, если реинвестировать слишком высокий процент выигрышей по отношению к разбросу результатов системы. Если в действи- тельности есть положительное математическое ожидание, каким бы маленьким оно ни было, используйте его с максимальной отдачей. При независимых испытаниях это достигается посредством реинвестирования фиксированной доли ва- шего общего счета.$^{1} $"
   ]
  },
  {
   "cell_type": "markdown",
   "metadata": {},
   "source": [
    "$^{1} $Для процесса зависимых испытаний, как и для процесса независимых испытаний, ставка части вашего общего счета также максимально использует положительное математическое ожидание. Однако при зависимых испытаниях ставки будут меняться; точная доля каждой отдельной ставки будет определяться вероятностями и выигрышами по каждой отдельной ставке."
   ]
  },
  {
   "cell_type": "markdown",
   "metadata": {},
   "source": [
    "Как нам найти это оптимальное f? В последние десятилетия азартными игроками использовалось множество систем, самая известная и точная из которых — «Система ставок Келли, являющаяся продолжением математической идеи, выдвинутой в начале 1956 года Джоном Л. Келли младшим. Из критерия Келли следует, что мы должны использовать фиксированную долю счета (f), которая максимизирует функцию роста G (f):"
   ]
  },
  {
   "cell_type": "markdown",
   "metadata": {},
   "source": [
    "(1.08) $$\\large{G(f) = P *ln(1 + B * f) + (1-P) * ln(1-f)}$$\n",
    "где:\n",
    "$f$ - оптимальная фиксированная доля;\n",
    "\n",
    "$P$ - вероятность вигрышной ставки или сделки;\n",
    "\n",
    "$B$ - отношение выигранной суммы по выигрышной ставке к проигранной сумме по проигрышной ставке;"
   ]
  },
  {
   "cell_type": "markdown",
   "metadata": {},
   "source": [
    "#### Формулы Келли"
   ]
  },
  {
   "cell_type": "markdown",
   "metadata": {},
   "source": [
    "Начиная с конца 1940-х годов, инженеры компании Bell System работали над проблемой передачи данных по международным линиям. Проблема, стоящая перед ними, заключалась в том, что линии были подвержены случайному, неизбежному «шуму», который мешал передаче данных. Инженерами компании было предложено несколько довольно оригинальных решений. Как это ни странно, наблюдались большие сходства между проблемой передачи данных и проблемой геометрического роста, которая относится к управлению деньгами в азартных играх (так как обе проблемы являются продуктом случайной среды). Так появилась первая формула Келли."
   ]
  },
  {
   "cell_type": "markdown",
   "metadata": {},
   "source": [
    "(1.09а) $$f = 2 * P - 1$$\n",
    "\n",
    "или \n",
    "\n",
    "(1.09b)$$f = P - Q$$\n",
    "\n",
    "где:\n",
    "$f$ = оптимальная фиксированная доля;\n",
    "$Р$ = вероятность выигрышной ставки или сделки;\n",
    "$Q$ = вероятность проигрыша (1 - Р)."
   ]
  },
  {
   "cell_type": "markdown",
   "metadata": {},
   "source": [
    "Уравнения (1.09а) или (1.096) для оптимального f дадут правильный ответ при условии, что выигрыши и проигрыши будут одинаковые по величине. В качестве примера рассмотрим следующий поток ставок: -1,1,1,-1,1,1,1,1,-1,-1"
   ]
  },
  {
   "cell_type": "code",
   "execution_count": 594,
   "metadata": {},
   "outputs": [
    {
     "name": "stdout",
     "output_type": "stream",
     "text": [
      "по формуле 1.09a, f = 0.2\n"
     ]
    }
   ],
   "source": [
    "trades = [-1,1,1,-1,1,1,1,1,-1,-1]\n",
    "P = len(list(filter(lambda x: x > 0, trades)))/len(trades)\n",
    "f = round((2 * P - 1),1)\n",
    "print(f'по формуле 1.09a, f = {f}')"
   ]
  },
  {
   "cell_type": "markdown",
   "metadata": {},
   "source": [
    "Если выигрыши и проигрыши не были бы одинакового размера, то эта формула не дала бы правильного ответа. Примером служит бросок монеты в игре «два к одному», где все выигрыши — 2 единицы, а проигрыши — 1 единица.В этом слу- чае формула Келли будет выглядеть следующим образом:"
   ]
  },
  {
   "cell_type": "markdown",
   "metadata": {},
   "source": [
    "(1.10a)\n",
    "$$f = ((B + 1) * P - 1)\\over{B}$$\n",
    "\n",
    "где \n",
    " \n",
    "$Р$ = вероятность выигрышной ставки или сделки;\n",
    " \n",
    "$В$ = отношение выигранной суммы по выигрышной ставке к проигранной сумме по проигрышной ставке."
   ]
  },
  {
   "cell_type": "markdown",
   "metadata": {},
   "source": [
    "В нашем примере с броском монеты в игре «два к одному»:"
   ]
  },
  {
   "cell_type": "code",
   "execution_count": 596,
   "metadata": {},
   "outputs": [
    {
     "name": "stdout",
     "output_type": "stream",
     "text": [
      "по формуле 1.10a, f = 0.25\n"
     ]
    }
   ],
   "source": [
    "P = 0.5\n",
    "B = 2/1\n",
    "\n",
    "f = ((B + 1)*P - 1)/B\n",
    "print(f'по формуле 1.10a, f = {f}')"
   ]
  },
  {
   "cell_type": "markdown",
   "metadata": {},
   "source": [
    "Эта формула даст правильный ответ для оптимального f при условии, что все выигрыши между собой всегда одинаковы и все проигрыши между собой всегда оди-\n",
    "наковы. Если это не так, формула не даст правильного ответа. Формулы Келли применимы только к результатам, которые имеют распределение Бернулли (распределение с двумя возможными исходами). Торговля, к сожалению, не так проста. Применение формул Келли к иному распределению является ошибкой и не даст нам оптимального f."
   ]
  },
  {
   "cell_type": "markdown",
   "metadata": {},
   "source": [
    "#### Поиск оптимального f с помощью среднего геометрического."
   ]
  },
  {
   "cell_type": "markdown",
   "metadata": {},
   "source": [
    "В реальной торговле размер проигрышей и выигрышей будут постоянно меняться. Поэтому формулы Келли не могут дать нам правильное оптимальное f. Как\n",
    "корректно с математической точки зрения найти оптимальное f, которое позволит нам определить количество контрактов для торговли? Попытаемся ответить на этот вопрос. Для начала мы должны изменить формулу для поиска HPR, включив в нее f:"
   ]
  },
  {
   "cell_type": "markdown",
   "metadata": {},
   "source": [
    "$$HPR = 1 + f * (Сделка / Наибольший проигрыш)$$\n",
    "\n",
    "где:\n",
    "\n",
    "Сделка = прибыль или убыток в этой сделке (с противоположным знаком, чтобы убыток стал положительным числом, а прибыль — отрицательным); \n",
    "Наибольший проигрыш = наибольший убыток за сделку (это всегда отрицательное число).\n",
    "\n",
    "TWR — это произведение всех HPR, а среднее геометрическое (G) — это корень N-й степени TWR.\n",
    "\n",
    "$$TWR = \\prod\\limits_{i = 1}^N 1 + f * (Сделка_i / Наибольший проигрыш)$$ \n",
    "\n",
    "$$G = (\\prod\\limits_{i = 1}^N 1 + f * (\\frac{Сделка_i}{Наибольший проигрыш}))^{1\\over{N}}$$\n",
    "\n",
    "где: \n",
    "\n",
    "N = общее количество сделок;\n",
    "G = среднее геометрическое HPR."
   ]
  },
  {
   "cell_type": "markdown",
   "metadata": {},
   "source": [
    "Просмотрев значения/от 0,01 до 1, мы найдем/, которое даст наивысшее TWR. Это значение f позволит получить максимальную прибыль при торговле фиксированной долей. Мы можем также сказать, что оптимальное f позволяет получить наивысшее среднее геометрическое. Не имеет значения, что мы ищем: наивысшее TWR или среднее геометрическое, так как обе величины максимальны при одном и том же значении f."
   ]
  },
  {
   "cell_type": "markdown",
   "metadata": {},
   "source": [
    "Мы увидели, что лучшей торговой системой является система с наивысшим средним геометрическим. Для расчета среднего геометрического необходимо знать f. Итак, давайте поэтапно опишем наши действия."
   ]
  },
  {
   "cell_type": "markdown",
   "metadata": {},
   "source": [
    "1. Возьмите историю сделок в данной рыночной системе.\n",
    "2. Найдите оптимальное f, просмотрев различные значения f от 0 до 1. Оптимальное f соответствует наивысшему значению TWR.\n",
    "3. После того, как вы найдете f, возьмите корень N-й степени TWR (N — общее количество сделок). Это и есть ваше среднее геометрическое для данной рыночной системы. Теперь можно использовать полученное среднее геометрическое, чтобы сравнивать эту систему с другими. Значение f подскажет вам, сколькими контрактами торговать в данной рыночной системе. После того, как найдено f, его можно перевести в денежный эквивалент, разделив наибольший проигрыш на отрицательное оптимальное/. Например, если наибольший проигрыш равен 100 долларам, а оптимальное f = 0,25, тогда -100 долларов / -0,25 = 400 долларов.\n",
    "\n",
    "Другими словами, следует ставить 1 единицу на каждые 400 долларов счета. Для простоты можно все рассчитывать на основе единиц (например одна 5-долларовая фишка или один фьючерсный контракт, или 100 акций)."
   ]
  },
  {
   "cell_type": "markdown",
   "metadata": {},
   "source": [
    "Давайте рассмотрим последовательность ставок (сделок): 9,18,7,1,10,-5,-3,-17,-7"
   ]
  },
  {
   "cell_type": "markdown",
   "metadata": {},
   "source": [
    "Мы уже знаем, что формула Келли не применима к этой последовательности, так как величины выигрышей и проигрышей отличаются."
   ]
  },
  {
   "cell_type": "code",
   "execution_count": 512,
   "metadata": {},
   "outputs": [],
   "source": [
    "def plot_x_y(x, y, x_label, y_label):\n",
    "    plt.figure(figsize=(15, 10))\n",
    "    plt.xlabel(x_label)\n",
    "    plt.ylabel(y_label)\n",
    "    plt.plot(x, y)  \n",
    "    plt.show()"
   ]
  },
  {
   "cell_type": "code",
   "execution_count": 403,
   "metadata": {},
   "outputs": [],
   "source": [
    "def twr(trades, f):\n",
    "    twr = 1\n",
    "    max_loss = min(list(filter(lambda x: x <= 0, trades)))\n",
    "    for i in range(len(trades)):\n",
    "        twr = twr * (1 + f * (-1 * trades[i])/max_loss)\n",
    "    return twr"
   ]
  },
  {
   "cell_type": "code",
   "execution_count": 510,
   "metadata": {},
   "outputs": [],
   "source": [
    "def find_optim_f(trades):\n",
    "    f_list = np.arange(0.01, 1, step = 0.01)\n",
    "    x = []\n",
    "    y = []\n",
    "    for f in f_list:\n",
    "        x.append(f)    \n",
    "        y.append(twr(trades, f))\n",
    "        \n",
    "    idx_max_twr = y.index(max(y))\n",
    "    f_opt = round(x[idx_max_twr],2)\n",
    "    print(f'При f = {f_opt} TWR максимален и равен {round(y[idx_max_twr], 2)}')\n",
    "    plot_x_y(x, y, 'f', 'TWR')\n",
    "    \n",
    "    return x,y,f_opt"
   ]
  },
  {
   "cell_type": "code",
   "execution_count": 513,
   "metadata": {},
   "outputs": [
    {
     "name": "stdout",
     "output_type": "stream",
     "text": [
      "При f = 0.24 TWR максимален и равен 1.1\n"
     ]
    },
    {
     "data": {
      "image/png": "[encoded data removed]",
      "text/plain": [
       "<Figure size 1080x720 with 1 Axes>"
      ]
     },
     "metadata": {
      "needs_background": "light"
     },
     "output_type": "display_data"
    }
   ],
   "source": [
    "trades = [9,18,7,1,10,-5,-3,-17,-7]\n",
    "X,Y,f = find_optim_f(trades)"
   ]
  },
  {
   "cell_type": "code",
   "execution_count": 476,
   "metadata": {},
   "outputs": [],
   "source": [
    "def G_average(F,TWR, n, f_opt):\n",
    "    idx_f = X.index([x for x in X if x > (f-0.005) and x < (f+0.005)])\n",
    "    return TWR[idx_f]**(1/n)"
   ]
  },
  {
   "cell_type": "code",
   "execution_count": 477,
   "metadata": {},
   "outputs": [
    {
     "data": {
      "text/plain": [
       "1.0102064005630487"
      ]
     },
     "execution_count": 477,
     "metadata": {},
     "output_type": "execute_result"
    }
   ],
   "source": [
    "G = G_average(X, Y, len(trades), 0.24)\n",
    "G"
   ]
  },
  {
   "cell_type": "markdown",
   "metadata": {},
   "source": [
    "После того, как найдено f, его можно перевести в денежный эквивалент, разделив наибольший проигрыш на отрицательное оптимальное"
   ]
  },
  {
   "cell_type": "code",
   "execution_count": 463,
   "metadata": {},
   "outputs": [
    {
     "name": "stdout",
     "output_type": "stream",
     "text": [
      "денежный эквивалент f = 0.24 -> 70.83\n"
     ]
    }
   ],
   "source": [
    "f = 0.24\n",
    "max_loss = min(list(filter(lambda x: x <= 0, trades)))\n",
    "money = max_loss/-f\n",
    "print(f'денежный эквивалент f = {f} -> {round(money,2)}')"
   ]
  },
  {
   "cell_type": "markdown",
   "metadata": {},
   "source": [
    "Таким образом один контракт (единица сделки/покупки) должен быть равен 70 долларам / лотам акций и тд"
   ]
  },
  {
   "cell_type": "markdown",
   "metadata": {},
   "source": [
    "Повторим последоватльность сделок несколько раз, чтобы оценить эффект оптимального fопт = 0.24 по сравнению с неоптимальным, к примеру  f = 0,16"
   ]
  },
  {
   "cell_type": "code",
   "execution_count": 470,
   "metadata": {},
   "outputs": [
    {
     "data": {
      "text/html": [
       "<div>\n",
       "<style scoped>\n",
       "    .dataframe tbody tr th:only-of-type {\n",
       "        vertical-align: middle;\n",
       "    }\n",
       "\n",
       "    .dataframe tbody tr th {\n",
       "        vertical-align: top;\n",
       "    }\n",
       "\n",
       "    .dataframe thead th {\n",
       "        text-align: right;\n",
       "    }\n",
       "</style>\n",
       "<table border=\"1\" class=\"dataframe\">\n",
       "  <thead>\n",
       "    <tr style=\"text-align: right;\">\n",
       "      <th></th>\n",
       "      <th>Повторы последовательности</th>\n",
       "      <th>Всего ставок или сделок</th>\n",
       "      <th>TWR при f = 0.24</th>\n",
       "      <th>TWR при f = 0.16</th>\n",
       "      <th>Разница в процентах</th>\n",
       "    </tr>\n",
       "  </thead>\n",
       "  <tbody>\n",
       "    <tr>\n",
       "      <th>0</th>\n",
       "      <td>1.0</td>\n",
       "      <td>9.0</td>\n",
       "      <td>1.095698</td>\n",
       "      <td>1.084999</td>\n",
       "      <td>0.98</td>\n",
       "    </tr>\n",
       "    <tr>\n",
       "      <th>1</th>\n",
       "      <td>10.0</td>\n",
       "      <td>90.0</td>\n",
       "      <td>2.494080</td>\n",
       "      <td>2.260955</td>\n",
       "      <td>9.35</td>\n",
       "    </tr>\n",
       "    <tr>\n",
       "      <th>2</th>\n",
       "      <td>40.0</td>\n",
       "      <td>360.0</td>\n",
       "      <td>38.693828</td>\n",
       "      <td>26.131693</td>\n",
       "      <td>32.47</td>\n",
       "    </tr>\n",
       "    <tr>\n",
       "      <th>3</th>\n",
       "      <td>100.0</td>\n",
       "      <td>900.0</td>\n",
       "      <td>9313.314029</td>\n",
       "      <td>3490.750834</td>\n",
       "      <td>62.52</td>\n",
       "    </tr>\n",
       "  </tbody>\n",
       "</table>\n",
       "</div>"
      ],
      "text/plain": [
       "   Повторы последовательности  Всего ставок или сделок  TWR при f = 0.24  \\\n",
       "0                         1.0                      9.0          1.095698   \n",
       "1                        10.0                     90.0          2.494080   \n",
       "2                        40.0                    360.0         38.693828   \n",
       "3                       100.0                    900.0       9313.314029   \n",
       "\n",
       "   TWR при f = 0.16  Разница в процентах  \n",
       "0          1.084999                 0.98  \n",
       "1          2.260955                 9.35  \n",
       "2         26.131693                32.47  \n",
       "3       3490.750834                62.52  "
      ]
     },
     "execution_count": 470,
     "metadata": {},
     "output_type": "execute_result"
    }
   ],
   "source": [
    "batch = [9,18,7,1,10,-5,-3,-17,-7]\n",
    "n_iteration = [1,10,40,100]\n",
    "f_list = [0.16, 0.24]\n",
    "\n",
    "result = []\n",
    "titles = ['Повторы последовательности','Всего ставок или сделок', f'TWR при f = {f_list[1]}', f'TWR при f = {f_list[0]}', 'Разница в процентах' ]\n",
    "for i in n_iteration:\n",
    "    trades = batch * i\n",
    "    param = [] \n",
    "    param.append(i)\n",
    "    param.append(len(trades))\n",
    "    param.append(twr(trades, f_list[1]))\n",
    "    param.append(twr(trades, f_list[0]))\n",
    "    param.append(round(100*(twr(trades, f_list[1]) - twr(trades, f_list[0]))/ twr(trades, f_list[1]), 2))\n",
    "    result.append(param)\n",
    "a = np.array(result)    \n",
    "compar_df = pd.DataFrame({titles[0]:a[:,0], titles[1]:a[:,1], titles[2]:a[:,2], titles[3]:a[:,3], titles[4]:a[:,4]})\n",
    "compar_df"
   ]
  },
  {
   "cell_type": "markdown",
   "metadata": {},
   "source": [
    "Как видите, использование оптимального f не дает большого преимущества на коротком временном отрезке, но с течением времени оптимальное f оказывает все большее влияние. Дело в том, что при торговле с оптимальным f надо дать программе время, а не ждать чуда на следующий день. Чем больше времени (то есть ставок или сделок) проходит, тем больше становится разница между стратегией оптимального f и любой другой стратегией управления деньгами."
   ]
  },
  {
   "cell_type": "markdown",
   "metadata": {},
   "source": [
    "#### Средняя геометрическая сделка"
   ]
  },
  {
   "cell_type": "markdown",
   "metadata": {},
   "source": [
    "Трейдеру может быть интересно рассчитать свою среднюю геометрическую сделку (то есть среднюю прибыль, полученную на контракт за сделку), допуская, что прибыли реинвестируются, и торговать можно дробными контрактами. Это и есть математическое ожидание, когда торговля ведется на основе фиксированной доли. В действительности это приблизительный доход системы за сделку при использовании фиксированной доли счета. (На самом деле средняя геометрическая сделка является математическим ожиданием в долларах на контракт за сделку. Вычитая из среднего геометрического единицу, вы получите математическое ожидание. Среднее геометрическое 1,025 соответствует математическому ожиданию в 2,5% за сделку). Многие трейдеры смотрят только на среднюю сделку рыночной системы, чтобы понять, стоит ли торговать по этой системе. Однако при принятии решения следует обращать внимание именно на среднюю геометрическую сделку (GAT)."
   ]
  },
  {
   "cell_type": "markdown",
   "metadata": {},
   "source": [
    "(1.14) $$GAT = G * (\\frac{наибольший проигрыш}{-f})$$\n",
    "\n",
    "где:\n",
    "G = среднее геометрическое - 1;\n",
    "f = оптимальная фиксированная доля."
   ]
  },
  {
   "cell_type": "code",
   "execution_count": 514,
   "metadata": {},
   "outputs": [
    {
     "name": "stdout",
     "output_type": "stream",
     "text": [
      "При f = 0.24 TWR максимален и равен 1.1\n"
     ]
    },
    {
     "data": {
      "image/png": "[encoded data removed]",
      "text/plain": [
       "<Figure size 1080x720 with 1 Axes>"
      ]
     },
     "metadata": {
      "needs_background": "light"
     },
     "output_type": "display_data"
    },
    {
     "name": "stdout",
     "output_type": "stream",
     "text": [
      "Средняя геометрическая сделка GAT = 0.72$\n"
     ]
    }
   ],
   "source": [
    "# Расчитаем среднюю геометрическую сделку\n",
    "trades = [9,18,7,1,10,-5,-3,-17,-7] # Последовательность сделок, $\n",
    "X,Y,f_opt = find_optim_f(trades) # Находим опимальное f\n",
    "G = G_average(X, Y, len(trades), f_opt) # Находим среднее геометрическое\n",
    "max_loss = min(list(filter(lambda x: x <= 0, trades))) # находим максимальный проигрыш\n",
    "GAT = (G-1) * max_loss / - f # Находим среднюю геометрическую сделку\n",
    "print(f'Средняя геометрическая сделка GAT = {round(GAT,2)}$')"
   ]
  },
  {
   "cell_type": "markdown",
   "metadata": {},
   "source": [
    "#### Почему необходимо знать оптимальное f вашей системы"
   ]
  },
  {
   "cell_type": "markdown",
   "metadata": {},
   "source": [
    "Вспомните f для игры с броском монеты 2:1 (рисунок 1-1)."
   ]
  },
  {
   "cell_type": "code",
   "execution_count": 515,
   "metadata": {},
   "outputs": [
    {
     "name": "stdout",
     "output_type": "stream",
     "text": [
      "рисунок 1-1\n",
      "При f = 0.25 TWR максимален и равен 10.55\n"
     ]
    },
    {
     "data": {
      "image/png": "[encoded data removed]",
      "text/plain": [
       "<Figure size 1080x720 with 1 Axes>"
      ]
     },
     "metadata": {
      "needs_background": "light"
     },
     "output_type": "display_data"
    }
   ],
   "source": [
    "trades = [2,-1]*20\n",
    "print('рисунок 1-1')\n",
    "X,Y,f_opt = find_optim_f(trades) # Находим опимальное f"
   ]
  },
  {
   "cell_type": "markdown",
   "metadata": {},
   "source": [
    "Давайте увеличим выигрыш с 2 до 5 единиц (рисунок 1-6). В этом случае оптимальное f = 0,4, то есть ставка в 1 доллар на каждые 2,50 доллара на счете. После 20 последовательностей +5,-1 (40 ставок) ваш счет в 2,50 доллара вырастет до 127,482 доллара, и все благодаря оптимальному f."
   ]
  },
  {
   "cell_type": "code",
   "execution_count": 516,
   "metadata": {},
   "outputs": [
    {
     "name": "stdout",
     "output_type": "stream",
     "text": [
      "рисунок 1-6\n",
      "При f = 0.4 TWR максимален и равен 127482.36\n"
     ]
    },
    {
     "data": {
      "image/png": "[encoded data removed]",
      "text/plain": [
       "<Figure size 1080x720 with 1 Axes>"
      ]
     },
     "metadata": {
      "needs_background": "light"
     },
     "output_type": "display_data"
    }
   ],
   "source": [
    "trades = [5,-1]*20\n",
    "print('рисунок 1-6')\n",
    "X,Y,f_opt = find_optim_f(trades) # Находим опимальное f"
   ]
  },
  {
   "cell_type": "markdown",
   "metadata": {},
   "source": [
    "Теперь посмотрим, что произойдет, если вы ошибетесь с оптимальным f на 0,2. При значениях f= 0,6 и f= 0,2 вы не заработаете даже десятой части того, что заработаете при 0,4. "
   ]
  },
  {
   "cell_type": "code",
   "execution_count": 500,
   "metadata": {},
   "outputs": [
    {
     "data": {
      "text/plain": [
       "12089.258196146306"
      ]
     },
     "execution_count": 500,
     "metadata": {},
     "output_type": "execute_result"
    }
   ],
   "source": [
    "f = 0.6\n",
    "twr(trades, f)"
   ]
  },
  {
   "cell_type": "code",
   "execution_count": 501,
   "metadata": {},
   "outputs": [
    {
     "data": {
      "text/plain": [
       "12089.258196146306"
      ]
     },
     "execution_count": 501,
     "metadata": {},
     "output_type": "execute_result"
    }
   ],
   "source": [
    "f = 0.2\n",
    "twr(trades, f)"
   ]
  },
  {
   "cell_type": "markdown",
   "metadata": {},
   "source": [
    "Эта ситуация (50/50, 5 к 1) имеет математическое ожидание (5 * 0,5) + (1 * (-0,5)) = 2, однако если вы будете делать ставки, используя значение f больше 0,8, то потеряете деньги."
   ]
  },
  {
   "cell_type": "code",
   "execution_count": 506,
   "metadata": {},
   "outputs": [
    {
     "data": {
      "text/plain": [
       "2.0"
      ]
     },
     "execution_count": 506,
     "metadata": {},
     "output_type": "execute_result"
    }
   ],
   "source": [
    "math_exp(0.5,0.5,5,-1) # математическое ожидание (5 * 0,5) + (1 * (-0,5)) = 2"
   ]
  },
  {
   "cell_type": "code",
   "execution_count": 505,
   "metadata": {},
   "outputs": [
    {
     "data": {
      "text/plain": [
       "0.999999999999996"
      ]
     },
     "execution_count": 505,
     "metadata": {},
     "output_type": "execute_result"
    }
   ],
   "source": [
    "f = 0.8\n",
    "twr(trades, f)"
   ]
  },
  {
   "cell_type": "markdown",
   "metadata": {},
   "source": [
    "Расчет TWR допускает дробные контракты, чтобы его значение всегда было одинаково для данного набора торговых результатов вне зависимости от их после- довательности. Вы можете усомниться в правильности такого подхода, поскольку при реальной торговле это невыполнимо. В реальной жизни вы не можете торговать дробными контрактами. Этот аргумент правильный. Однако мы оставим подобный расчет TWR, потому что таким образом мы представим средний TWR для всех возможных начальных счетов. Если вы хотите, чтобы размеры всех ставок были целыми числами, тогда становится важна величина начального счета. Однако если бы вы должны были усреднить TWR со всех значений возможных начальных счетов, используя только ставки в целых числах, то достигли бы того же значения TWR, которое мы рассчитали при дробных ставках. \n",
    "Поэтому значение TWR, которое рассчитано здесь, более реально, чем то, которое мы рассчитывали бы при ставках в целых числах, так как оно представляет огромное количество\n",
    "результатов с различными начальными счетами. Разумеется, чем выше баланс счета, тем ближе будут результаты торговли целыми и дробными контрактами. Пределом здесь является счет с бесконечным капиталом, где ставка в целых числах и дробная ставка в точности равны.\n",
    "Таким образом, чем ближе вы находитесь к оптимальному f, тем лучше. Также можно сказать, что чем больше счет, тем больше будет эффект от оптимального f."
   ]
  },
  {
   "cell_type": "markdown",
   "metadata": {},
   "source": [
    "#### Насколько может быть серьезен проигрыш"
   ]
  },
  {
   "cell_type": "markdown",
   "metadata": {},
   "source": [
    "Здесь важно отметить, что проигрыш, который может произойти при торговле фиксированной долей (в процентах от вашего счета), исторически может быть такой же, как f. Другими словами, если f равно 0,55, то проигрыш может составить 55% от вашего баланса. Если вы торгуете с оптимальным f, то ваш наибольший проигрыш будет эквивалентен f."
   ]
  },
  {
   "cell_type": "markdown",
   "metadata": {},
   "source": [
    "#### Современная теория портфеля"
   ]
  },
  {
   "cell_type": "markdown",
   "metadata": {},
   "source": [
    "Эффективная диверсификация, путем включения в портфель других рыночных систем, является лучшим способом, которым можно смягчить этот проигрыш и преодолеть его, все еще оставаясь близко к пику кривой f (то есть не уменьшая f, скажем, до f/2). Когда одна рыночная система приносит убыток, другая приносит прибыль, тем самым смягчая проигрыш первой. Это также оказывает большое влияние на весь счет. Рыночная система, которая только что испытала проигрыш (и теперь возвращается к хорошей работе), будет иметь не меньше средств, чем до убытка (благодаря тому, что другая рыночная система аннулировала проигрыш)."
   ]
  },
  {
   "cell_type": "markdown",
   "metadata": {},
   "source": [
    "В то время как оптимальные параметры системы с течением времени меняются довольно быстро, веса отдельных систем в оптимальном портфеле меняются очень медленно (как и значения оптимальных f). Вообще, корреляция между рыночными системами достаточно стабильна. Эта новость будет еще более приятна для трейдера, если он уже нашел такой\n",
    "оптимально смешанный портфель."
   ]
  },
  {
   "cell_type": "markdown",
   "metadata": {},
   "source": [
    "#### Модель Марковица"
   ]
  },
  {
   "cell_type": "markdown",
   "metadata": {},
   "source": [
    "Основные концепции современной теории портфеля изложены в монографии, написанной доктором Гарри Марковицем."
   ]
  },
  {
   "cell_type": "markdown",
   "metadata": {},
   "source": [
    "Марковиц доказывал, что диверсификация эффективна только тогда, когда корреляция между включенными в портфель рынками имеет отрицательное значение."
   ]
  },
  {
   "cell_type": "markdown",
   "metadata": {},
   "source": [
    "Марковиц предположил, что инвесторы действуют рациональным способои и при наличии выбора предпочитают портфель с меньшим риском при равном уровне прибыльности или выбирают портфель с большей прибылью, при одинаковом риске."
   ]
  },
  {
   "cell_type": "markdown",
   "metadata": {},
   "source": [
    "Далее Марковиц утверждает, что для данного уровня риска есть оптимальный портфель с наивысшей доходностью, и таким же образом для данного уровня доходности есть оптимальный портфель с наименьшим риском. Портфель, доходность которого может быть увеличена без сопутствующего увеличения риска или портфель, риск которого можно уменьшить без сопутствующего уменьшения доходности, согласно Марковицу, неэффективны."
   ]
  },
  {
   "cell_type": "markdown",
   "metadata": {},
   "source": [
    "Рисунок 1-7 показывает все имеющиеся портфели, рассматриваемые в данном примере. Если у вас портфель С, то лучше заменить его на портфель А, где прибыль такая же, но с меньшим риском, или на портфель В, где вы получите большую прибыль при том же риске. Описывая эту ситуацию, Марковиц ввел понятие «эффективная граница» (efficient frontier). Это набор портфелей, которые находятся в верхней левой части графика, то есть портфели, прибыль которых больше не может быть увеличена без увеличения риска, и риск которых не может быть уменьшен без уменьшения прибыли.\n",
    "\n",
    "<img src=\"1-7.png\" width=\"800\">"
   ]
  },
  {
   "cell_type": "markdown",
   "metadata": {},
   "source": [
    "Портфели, находящиеся на эффективной границе, называются эффективными портфелями (см. Рисунок 1-8).\n",
    "\n",
    "<img src=\"1-8.png\" width=\"800\">"
   ]
  },
  {
   "cell_type": "markdown",
   "metadata": {},
   "source": [
    "Портфели, которые находятся вверху справа и внизу слева, в целом недостаточно диверсифицированы по сравнению с другими портфелями. Те же портфели, которые находятся в середине эффективной границы, обычно очень хорошо диверсифицированы. Выбор портфеля инвестором зависит от степени неприятия риска инвестором — иначе говоря, от желания взять на себя риск. В модели Марковица любой портфель, который находится на эффективной границе, является хорошим выбором, но какой именно портфель выберет инвестор — это вопрос личного предпочтения (позднее мы увидим, что есть точное оптимальное расположение портфеля на эффективной границе для всех инвесторов)."
   ]
  },
  {
   "cell_type": "markdown",
   "metadata": {},
   "source": [
    "Модель Марковица первоначально была представлена для портфеля акций, который инвестор будет держать достаточно долго. Поэтому основными входными данными были ожидаемые доходы по акциям (определяется как ожидаемый прирост цены акции плюс дивиденды), ожидаемые дисперсии этих доходов и корреляции доходов между различными акциями."
   ]
  },
  {
   "cell_type": "markdown",
   "metadata": {},
   "source": [
    "Допустим, у нас есть системы А и В с отрицательной корреляцией. Когда А в проигрыше, В в выигрыше, и наоборот. Разве это не идеальная диверсификация?\n",
    "Действительно, мы хотим измерить не корреляции цен рынков, на которых работаем, а корреляции изменений ежедневных балансов различных рыночных систем. И все-таки это является сравнением яблок и апельсинов. Скажем, две рыночные системы, корреляции которых мы собираемся измерить, работают на одном и том же рынке, и одна из систем имеет оптимальное f, соответствующее 1 контракту на каждые 2000 долларов на счете, а другая система имеет оптимальное f, соответствующее 1 контракту на каждые 10 000 долларов на счете. Чтобы понять суть торговли фиксированной долей в портфеле из нескольких систем, мы переведем изменения ежедневного баланса для данной рыночной системы в ежедневные HPR. HPR в этом контексте означает, сколько заработано или проиграно в данный день на основе 1 контракта в зависимости от оптимального f для этой системы. Рассмотрим пример. Скажем, рыночная система с оптимальным f в 2000 долларов за день заработала 100 долларов. Тогда HPR для этой рыночной системы составит 1,05. Дневное HPR можно найти следующим образом:"
   ]
  },
  {
   "cell_type": "markdown",
   "metadata": {},
   "source": [
    "(1.15) $$Дневное HPR = (A/B) + 1$$\n",
    "\n",
    "где:\n",
    "    \n",
    "А = сумма в долларах, выигранная или проигранная за этот день;\n",
    "\n",
    "В = оптимальное f в долларах."
   ]
  },
  {
   "cell_type": "markdown",
   "metadata": {},
   "source": [
    "Для рассматриваемых рыночных систем преобразуем дневные выигрыши и проигрыши в дневные HPR, тогда мы получим значение, не зависящее от количества контрактов. В указанном примере, где дневное HPR составляет 1,05, вы выиграли 5%. Эти 5% не зависят от того, был у вас 1 контракт или 1000 контрактов. Теперь можно сравнивать разные портфели. Мы будем сравнивать все возможные комбинации портфелей, начиная с портфелей, состоящих из одной рыночной системы (для каждой рассматриваемой рыночной системы), заканчивая портфелями из N рыночных систем. В качестве примера рассмотрим рыночные системы А, В и С, их комбинации будут выглядеть следующим образом:"
   ]
  },
  {
   "cell_type": "code",
   "execution_count": null,
   "metadata": {},
   "outputs": [],
   "source": [
    "import itertools"
   ]
  },
  {
   "cell_type": "code",
   "execution_count": 1198,
   "metadata": {},
   "outputs": [],
   "source": [
    "cases = 0.5 + np.random.random_sample(6,) #генерируем HPR для всех комбинаций портфелей\n",
    "all_combination_cases = []\n",
    "for r in range(1,len(cases)+1):\n",
    "    combination_object = itertools.combinations(cases,r)\n",
    "    combination_list = list(combination_object)\n",
    "    all_combination_cases += combination_list\n",
    "# all_combination_cases"
   ]
  },
  {
   "cell_type": "markdown",
   "metadata": {},
   "source": [
    "Для каждой комбинации рассчитаем веса рыночных систем в портфеле. Для этого необходимо задать минимальный процентный вес системы (или минимальное изменение веса). В следующем примере (портфель из систем А, В, С) этот минимальный вес системы равен 10% (0,10):"
   ]
  },
  {
   "cell_type": "code",
   "execution_count": null,
   "metadata": {},
   "outputs": [],
   "source": [
    "import pprint"
   ]
  },
  {
   "cell_type": "code",
   "execution_count": 1199,
   "metadata": {},
   "outputs": [],
   "source": [
    "# заполняем словарь портфелей комбнациями долей\n",
    "a = np.arange(10, 100, step = 10)\n",
    "cases_weight = {}\n",
    "for l in all_combination_cases:\n",
    "    case_weight = []\n",
    "    if len(l) == 1:\n",
    "        cases_weight[l] = [100]\n",
    "    else:\n",
    "        c = itertools.product(a,repeat = len(l))\n",
    "        for i in list(c):\n",
    "            if sum(i) == 100:\n",
    "                case_weight.append(i)\n",
    "        cases_weight[l] = case_weight\n",
    "# pprint.pprint(cases_weight)"
   ]
  },
  {
   "cell_type": "markdown",
   "metadata": {},
   "source": [
    "Введем понятие КСП (комбинация систем в портфеле). Теперь для каждой КСП рассчитаем совокупное HPR для отдельного дня. Совокупное HPR для данного дня будет суммой HPR каждой рыночной системы для этого дня, умноженных на процентные веса систем. Например, для систем А, В и С мы рассматриваем процентные веса 10%, 50%, 40% соответственно. Далее допустим, что отдельные HPR для этих рыночных систем в тот день были 0,9, 1,4 и 1,05 соответственно. Тогда совокупное HPR для этого дня будет:"
   ]
  },
  {
   "cell_type": "code",
   "execution_count": 622,
   "metadata": {},
   "outputs": [
    {
     "data": {
      "text/plain": [
       "1.21"
      ]
     },
     "execution_count": 622,
     "metadata": {},
     "output_type": "execute_result"
    }
   ],
   "source": [
    "Совокупное_HPR = (0.9 * 0.1) + (1.4 * 0.5) + (1.05 * 0.4)\n",
    "Совокупное_HPR"
   ]
  },
  {
   "cell_type": "code",
   "execution_count": 950,
   "metadata": {},
   "outputs": [
    {
     "data": {
      "text/plain": [
       "1.21"
      ]
     },
     "execution_count": 950,
     "metadata": {},
     "output_type": "execute_result"
    }
   ],
   "source": [
    "# самопроверка\n",
    "ss = [0.9, 1.4, 1.05]\n",
    "bb = [0.1, 0.5, 0.4]\n",
    "np.dot(ss,bb)"
   ]
  },
  {
   "cell_type": "markdown",
   "metadata": {},
   "source": [
    "Теперь нанесем дневные HPR для каждой КСП на ось Y В модели Марковица это соответствует получаемому доходу. На оси Х отложим стандартное отклонение дневных HPR для каждой КСП. В модели Марковица это соответствует риску. Современную теорию портфеля часто называют Теорией Е -V, что соответствует названиям осей. Вертикальную ось часто называют Е — ожидаемая прибыль (expected return), а горизонтальную ось называют V — дисперсия ожидаемой прибыли (variance in expected returns). После этого можно найти эффективную границу. Мы включили различные рынки, системы и факторы f и теперь можем количественно определить лучшие КСП (то есть КСП, которые находятся вдоль эффективной границы)."
   ]
  },
  {
   "cell_type": "code",
   "execution_count": 1200,
   "metadata": {},
   "outputs": [
    {
     "name": "stderr",
     "output_type": "stream",
     "text": [
      "<ipython-input-1200-c33d40394046>:14: VisibleDeprecationWarning: Creating an ndarray from ragged nested sequences (which is a list-or-tuple of lists-or-tuples-or ndarrays with different lengths or shapes) is deprecated. If you meant to do this, you must specify 'dtype=object' when creating the ndarray\n",
      "  a = np.array(E_cases[i])\n"
     ]
    },
    {
     "data": {
      "image/png": "[encoded data removed]",
      "text/plain": [
       "<Figure size 432x288 with 1 Axes>"
      ]
     },
     "metadata": {
      "needs_background": "light"
     },
     "output_type": "display_data"
    }
   ],
   "source": [
    "E_cases = {}\n",
    "# n_comb = len(cases)\n",
    "# hpr = 0.5 + np.random.random_sample((n_comb,)) #генерируем HPR для всех комбинаций портфелей \n",
    "for i in cases_weight:\n",
    "    e = []\n",
    "    csp = cases_weight[i]\n",
    "    for c in csp:\n",
    "        s = int(np.dot(i, c))\n",
    "        e.append([np.std(i), s, c]) # находим стандартное отклонение комбмнации HPR по каждому КСП и, соответствующее совокупное  HPR\n",
    "    E_cases[i] = e\n",
    "    \n",
    "# pprint.pprint(E_cases)    \n",
    "for i in E_cases:\n",
    "    a = np.array(E_cases[i])\n",
    "    plt.scatter(a[:,0],a[:,1])\n",
    "    plt.xlabel('Стандартное отклонение дневных HPR (Риск)')\n",
    "    plt.ylabel('Доходность,%')\n",
    "    plt.legend(i, loc='upper right')"
   ]
  },
  {
   "cell_type": "markdown",
   "metadata": {},
   "source": [
    "#### Стратегия среднего геометрического портфеля"
   ]
  },
  {
   "cell_type": "markdown",
   "metadata": {},
   "source": [
    "В какой именно точке на эффективной границе вы будете находиться (то есть какова эффективная КСП), является функцией вашего собственного неприятия риска, по крайней мере, в соответствии с моделью Марковица. Однако есть оптимальная точка на эффективной границе, и с помощью математических методов можно найти эту точку. Если вы выберете КСП с наивысшим средним геометрическим HPR, то достигнете оптимальной КСП! Мы можем рассчитать среднее геометрическое из среднего арифметического HPR и стандартного отклонения HPR (обе эти величины у нас уже есть, так как они являются осями Х и Y модели Марковица!) Уравнения (1.16а) и (1.166) дают нам формулу для оценочного среднего геометрического EGM (estimated geometric mean). Данный расчет очень близок (обычно до четвертого или пятого знака после запятой) к реальному среднему геометрическому, поэтому можно использовать оценочное среднее геометрическое вместо реального среднего геометрического."
   ]
  },
  {
   "cell_type": "markdown",
   "metadata": {},
   "source": [
    "(1.16a) $$EGM = \\sqrt{AHPR^{2} - SD^{2}}$$\n",
    "(1.16b) $$EGM = \\sqrt{AHPR^{2} - V^{2}}$$\n",
    "\n",
    "где \n",
    "\n",
    "EGM - оценочное среднее геометрическое;\n",
    "\n",
    "AHPR -среднее арифметическое HPR, или координата, соответствующая доходу по портфелю;\n",
    "\n",
    "SD = стандартное отклонение HPR, или координата, соответствующая риску по портфелю;\n",
    "\n",
    "V = дисперсия HPR, равная SD ^ 2. \n",
    "\n",
    "Обе формы уравнения (1.16) эквивалентны.\n",
    "\n",
    "**При КСП с наивысшим средним геометрическим рост стоимости портфеля будет максимальным; более того, данная КСП позволит достичь определенного уровня баланса за минимальное время.**"
   ]
  },
  {
   "cell_type": "code",
   "execution_count": 1201,
   "metadata": {},
   "outputs": [
    {
     "name": "stdout",
     "output_type": "stream",
     "text": [
      "[(1.3304426672940455,), 133.0, array([100.])]\n"
     ]
    },
    {
     "name": "stderr",
     "output_type": "stream",
     "text": [
      "<ipython-input-1201-0061329c6dd9>:4: VisibleDeprecationWarning: Creating an ndarray from ragged nested sequences (which is a list-or-tuple of lists-or-tuples-or ndarrays with different lengths or shapes) is deprecated. If you meant to do this, you must specify 'dtype=object' when creating the ndarray\n",
      "  a = np.array(E_cases[i])\n",
      "<ipython-input-1201-0061329c6dd9>:7: VisibleDeprecationWarning: Creating an ndarray from ragged nested sequences (which is a list-or-tuple of lists-or-tuples-or ndarrays with different lengths or shapes) is deprecated. If you meant to do this, you must specify 'dtype=object' when creating the ndarray\n",
      "  m =  np.array(cases)\n"
     ]
    },
    {
     "data": {
      "text/plain": [
       "[<matplotlib.lines.Line2D at 0x12247ba60>]"
      ]
     },
     "execution_count": 1201,
     "metadata": {},
     "output_type": "execute_result"
    },
    {
     "data": {
      "image/png": "[encoded data removed]",
      "text/plain": [
       "<Figure size 432x288 with 1 Axes>"
      ]
     },
     "metadata": {
      "needs_background": "light"
     },
     "output_type": "display_data"
    }
   ],
   "source": [
    "# найдем самый lучший портфель\n",
    "cases = []\n",
    "for i in E_cases:\n",
    "    a = np.array(E_cases[i])\n",
    "    cases.append([i, np.sqrt(np.mean(a[:,1])**2 - np.mean(a[:,0])**2), a[:,2]])\n",
    "    \n",
    "m =  np.array(cases)\n",
    "idx = np.argmax(m[:,1], axis = 0)\n",
    "print(cases[idx])\n",
    "plt.plot(m[:,1])"
   ]
  },
  {
   "cell_type": "markdown",
   "metadata": {},
   "source": [
    "#### Ежедневные процедуры при использовании оптимальных портфелей"
   ]
  },
  {
   "cell_type": "markdown",
   "metadata": {},
   "source": [
    "Допустим, что оптимальное КСП соответствует трем различным рыночным системам. Предположим, что процент размещения составляет 10%, 50% и 40%. Если бы вы рассматривали счет в 50000 долларов, то он был бы «разделен» на три субсчета в 5000, 25 000 и 20 000 долларов для каждой рыночной системы (А, В и С) соответственно. Затем для баланса по субсчету каждой рыночной системы вычислите, сколькими контрактами торговать. Скажем, фактор f дал следующие величины:\n",
    " \n",
    "Рыночная система А: 1 контракт на $5000 баланса счета.\n",
    "\n",
    "Рыночная система В: 1 контракт на $2500 баланса счета.\n",
    "\n",
    "Рыночная система С: 1 контракт на $2000 баланса счета.\n",
    "\n",
    "Тогда вы будете торговать:\n",
    "1 контрактом для рыночной системы А ($5000 / $5000), \n",
    "10 контрактами для рыночной системы В ($25 000 / $2500) и \n",
    "10 контрактами для рыночной системы С ($20 000 / $2000).\n",
    "\n",
    "Каждый день, когда общий баланс счета изменяется, все субсчета перерассчитываются.\n",
    "\n",
    "Допустим, что счет в 50 000 долларов на следующий день понизился до 45000 долларов. \n",
    "Так как мы каждый день заново перераспределяем средства по субсчетам, то получаем \n",
    "- 4500 долларов для рыночной системы А, \n",
    "- 22 500 долларов для рыночной системы В, и \n",
    "- 18 000 долларов для рыночной системы субсчета С. \n",
    "\n",
    "На следующий день мы будем торговать:\n",
    "- нулевым количеством контрактов по рыночной системе А ($4500 / $5000 = 0,9, или, так как мы всегда основываемся на целых числах, 0), \n",
    "- 9 контрактами для рыночной системы В ($22 500 / $2500), и \n",
    "- 9 контрактами для рыночной системы С ($18 000 / $2000). \n",
    "Перерассчитывайте субсчета ежедневно, независимо от того, что вы получили: прибыль или убыток. Помните, субсчета, использованные здесь, являются условной конструкцией."
   ]
  },
  {
   "cell_type": "markdown",
   "metadata": {},
   "source": [
    "Есть более простой для понимания способ, дающий те же самые ответы, — деление оптимального f рыночной системы на ее процентный вес.\n",
    "Это даст сумму в долларах, на которую мы затем разделим общий баланс счета, чтобы узнать, сколькими контрактами торговать.\n",
    "\n",
    "В рассмотренном примере:\n",
    "\n",
    "- рыночная система А, при значении f в 1 контракт на 5000 долларов баланса счета и процентном весе 10%, соответствует 1 контракту на 50 000 долларов общего баланса счета ($5000 / 0,10).\n",
    "\n",
    "- рыночная система В, при значении f в 1 контракт на 2500 долларов баланса счета и процентном весе 50%, соответствует 1 контракту на 5000 долларов общего баланса счета\n",
    "($2500 / 0,50).\n",
    "\n",
    "- Рыночная система С, при значении f в 1 контракт на 2000 долларов баланса счета и процентном весе 40%, соответствует 1 контракту на 5000 долларов общего баланса счета ($2000 / 0,40)."
   ]
  },
  {
   "cell_type": "markdown",
   "metadata": {},
   "source": [
    "Таким образом, если бы у нас было 50 000 долларов на счете, мы бы торговали 1 контрактом в рыночной системе А, 10 контрактами в рыночной системе В и 10 контрактами в рыночной системе С. На следующий день процедура повторяется. Скажем, наш общий баланс счета повысился до 59 000 долларов. В этом случае разделим 59 000 долларов на 50 000\n",
    "долларов и получим 1,18 (или округляя до целого числа 1), поэтому завтра мы бы торговали 1 контрактом в рыночной системе А, 11 контрактами ($59 000 / $5000 = 11,8, что ближе к целому числу 11) в рыночной системе В и 11 контрактами в рыночной системе С."
   ]
  },
  {
   "cell_type": "markdown",
   "metadata": {},
   "source": [
    "Предположим, в рыночной системе С со вчерашнего дня у нас открыта длинная позиция на 10 контрактов. Нам не следует добавлять сегодня до 11 контрактов. Суммы, которые мы рассчитываем с использованием баланса, рассчитываются только для новь1х позиций. Поэтому завтра (если было открыто 10 контрактов, но мы закрыли позицию, т.е. зафиксировали прибыль) нам следует открыть 11 контрактов, если мы посчитаем это целесообразным."
   ]
  },
  {
   "cell_type": "markdown",
   "metadata": {},
   "source": [
    "Расчет оптимального портфеля с использованием ежедневных HPR означает, что нам следует входить на рынок и изменять позиции на ежедневной основе, а не от\n",
    "сделки к сделке;"
   ]
  },
  {
   "cell_type": "markdown",
   "metadata": {},
   "source": [
    "но это не обязательно делать, если вы будете торговать по долгосрочной системе, поскольку вам будет невыгодно регулировать размер позиции на ежедневной основе из-за высоких накладных расходов. Вообще говоря, вам следует изменять позиции на ежедневной основе, но в реальной жизни вы можете изменять их от сделки к сделке с малой потерей точности. Применение правильных дневных позиций не является большой проблемой. Вспомните, что при поиске оптимального портфеля мы использовали в качестве вводных данных дневные HPR. Поэтому нам следовало бы изменять размер позиции ежедневно (если бы мы могли изменять каждую позицию по цене, по которой она закрылась вчера). В действительности это становится непрактично, так как издержки на трансакции начинают перевешивать прибыли от ежедневного изменения позиций."
   ]
  },
  {
   "cell_type": "markdown",
   "metadata": {},
   "source": [
    "С другой стороны, если мы открываем позицию, которую собираемся удерживать в течение года, нам следует пересматривать ее чаще, чем раз в год (т.е. в конце срока, когда мы откроем другую позицию). Вообще, в подобных долгосрочных системах нам лучше регулировать позицию каждую неделю, а не каждый день. Аргументация здесь такова: потери из-за не совсем правильных дневных позиций могут быть меньше, чем дополнительные издержки по сделкам для ежедневного изменения позиций."
   ]
  },
  {
   "cell_type": "markdown",
   "metadata": {},
   "source": [
    "Вы должны определить, основываясь на используемой торговой стратегии, какие из потерь будут для вас меньше. Какой объем исторических данных необходим для расчета оптимальных портфелей? Этот вопрос можно сформулировать несколько иначе: «Какой объем исторических данных необходим для определения оптимального f данной рыночной системы?»"
   ]
  },
  {
   "cell_type": "markdown",
   "metadata": {},
   "source": [
    "Точного ответа не существует. Вообще, чем больше исторических данных вы используете, тем лучше должен быть результат (то есть оптимальные портфели в будущем будут\n",
    "напоминать нынешние оптимальные портфели, рассчитанные по историческим данным). Однако соотношения изменяются, хотя и медленно. Одна из проблем при использовании данных за слишком большой период времени заключается в том, что возникает тенденция к использованию в портфеле рынков, которые были активны в прошлом. Например, если бы вы создавали портфель в 1983 году на 5 годах прошлых данных, то, вероятнее всего, один из драгоценных металлов оказался бы частью оптимального портфеля. Однако торговые системы по\n",
    "драгоценным металлам работали в большинстве своем очень плохо на протяжении нескольких лет после 1980-1981 годов. Поэтому, как видите, при определении\n",
    "будущего оптимального портфеля между использованием слишком большого количества исторических данных и использованием слишком малого количества данных нужно найти золотую середину. И, наконец, возникает вопрос, как часто следует повторять всю процедуру поиска оптимального портфеля. По большому счету вы должны делать это постоянно. Однако в реальной жизни достаточно тестировать портфель каждые 3 месяца. И даже если производить эту операцию каждые 3 месяца, все еще есть высокая вероятность, что вы придете к тому же составу портфеля или очень сходному с тем, что создали ранее."
   ]
  },
  {
   "cell_type": "markdown",
   "metadata": {},
   "source": [
    "#### Сумма весов систем в портфеле, превышающая 100%"
   ]
  },
  {
   "cell_type": "markdown",
   "metadata": {},
   "source": [
    "До настоящего момента мы ограничивали сумму процентных весов 100 процентами. Однако возможно, что сумма процентных размещений для портфеля, который будет иметь наивысший геометрический рост, превысит 100%."
   ]
  },
  {
   "cell_type": "code",
   "execution_count": 1216,
   "metadata": {},
   "outputs": [],
   "source": [
    "'''A и B - идентичныке системы, но с корреляцией R < 0 \n",
    "   Допустим что:'''\n",
    "f = fa = fb = 5000 #$\n",
    "'''оптимальный портфель 50 на 50 процентов, следовательно нам следует торговать одним контрактом на каждые 10000 $''' \n",
    "cases = 0.5 #50%\n",
    "n = f/cases #10000$\n",
    "'''Но когда есть отрицательная корреляция, сумма процентных весов может превышать 100%. \n",
    "Или, что тоже самое, оптимальный рост счета в действительности будет достигнут при торговле \n",
    "1 контрактом для баланса, меньшего 10 000 долларов для рыночной системы А и/или рыночной системы В.'''"
   ]
  },
  {
   "cell_type": "markdown",
   "metadata": {},
   "source": [
    "Интересно рассмотреть случай, когда корреляция между двумя рыночными\n",
    "системами приближается к -1,00. В этом случае сумма для финансирования сделок\n",
    "по рыночным системам стремится стать бесконечно малой. Дело в том, что в таком\n",
    "портфеле почти не будет проигрышных дней, так как проигранная в данный день\n",
    "одной рыночной системой сумма возмещается суммой, выигранной другой\n",
    "рыночной системой в тот же день. Поэтому с помощью диверсификации возможно\n",
    "получить оптимальный портфель, который размещает меньшую долю f (в\n",
    "долларах) в данную рыночную систему, чем при торговле только в этой рыночной\n",
    "системе.\n",
    "\n",
    "Для этого для каждой рыночной системы вы можете разделить\n",
    "оптимальное f в долларах на количество рыночных систем, в которых работаете."
   ]
  },
  {
   "cell_type": "markdown",
   "metadata": {},
   "source": [
    "В качестве еще одной рыночной\n",
    "системы вы можете использовать систему беспроцентного вклада. Это активы, не\n",
    "приносящие дохода, с HPR = 1,00 каждый день."
   ]
  },
  {
   "cell_type": "markdown",
   "metadata": {},
   "source": [
    "Корреляции различных рыночных систем\n",
    "могут оказать серьезное воздействие на портфель. Важно понимать, что портфель\n",
    "может быть больше, чем сумма его частей (если корреляции его составляющих\n",
    "частей достаточно низки). Также возможно, что портфель будет меньше, чем\n",
    "сумма его частей (если корреляции слишком высоки)."
   ]
  },
  {
   "cell_type": "code",
   "execution_count": 1235,
   "metadata": {},
   "outputs": [
    {
     "name": "stdout",
     "output_type": "stream",
     "text": [
      "Выигрыш 2.9, проигрыш -2.1\n",
      "Такая игра имеет математическое ожидание 0.4 $\n",
      "При f = 0.14 TWR максимален и равен 1.03\n"
     ]
    },
    {
     "data": {
      "image/png": "[encoded data removed]",
      "text/plain": [
       "<Figure size 1080x720 with 1 Axes>"
      ]
     },
     "metadata": {
      "needs_background": "light"
     },
     "output_type": "display_data"
    },
    {
     "name": "stdout",
     "output_type": "stream",
     "text": [
      "Среднее геометрическое G =  1.0130482054999488\n"
     ]
    }
   ],
   "source": [
    "'''Рассмотрим снова игру с броском монеты, где вы выигрываете 2 доллара, когда выпадает лицевая сторона,\n",
    "   и проигрываете 1 доллар, когда выпадает обратная сторона.'''\n",
    "win_1_side_1 = 2\n",
    "win_1_side_2 = -1\n",
    "m1 = 0.5 # математическое ожидание каждого броска\n",
    "f1 = 0.25 # оптимальное f - надо ставить 1 $ на каждые 4 $ на счете\n",
    "G1 = 1.0607 # среднее геометрическое\n",
    "\n",
    "'''Теперь рассмотрим вторую игру, где сумма, которую вы можете выиграть при броске монеты, составляет 0,90 долларов,\n",
    "    а сумма, которую вы можете проиграть, — 1,10 долларов.'''\n",
    "win_2_side_1 = 0.90\n",
    "win_2_side_2 = -1.10\n",
    "m2 = -0.10 # так как математическое ожидание отрицательно, то в этой игре нет f и G\n",
    "\n",
    "'''Посмотрим, что произойдет, когда мы будем играть в обе игры одновременно.'''\n",
    "win = loss = 0 # выигрыш/проигрыш на 2х играх\n",
    "R = 1\n",
    "if R == 1: # монеты изх двух игр всегда падают одинаково орел/орел или решка/решка\n",
    "    win = win_1_side_1 + win_2_side_1\n",
    "    loss = win_1_side_2 + win_2_side_2\n",
    "print(f'Выигрыш {win}, проигрыш {loss}')\n",
    "print(f'Такая игра имеет математическое ожидание {round(math_exp(0.5,0.5,win,loss),1)} $')\n",
    "X,Y,f = find_optim_f([win,loss])\n",
    "print(f'Среднее геометрическое G =  {G_average(X, Y, 2, f)}')"
   ]
  },
  {
   "cell_type": "code",
   "execution_count": 1239,
   "metadata": {},
   "outputs": [
    {
     "name": "stdout",
     "output_type": "stream",
     "text": [
      "Выигрыш 0.9, проигрыш -0.1\n",
      "Такая игра имеет математическое ожидание 0.4 $\n",
      "При f = 0.44 TWR максимален и равен 2.78\n"
     ]
    },
    {
     "data": {
      "image/png": "[encoded data removed]",
      "text/plain": [
       "<Figure size 1080x720 with 1 Axes>"
      ]
     },
     "metadata": {
      "needs_background": "light"
     },
     "output_type": "display_data"
    },
    {
     "name": "stdout",
     "output_type": "stream",
     "text": [
      "Среднее геометрическое G =  1.6666133324799728\n"
     ]
    }
   ],
   "source": [
    "'''Очевидно, что это худший подход к\n",
    "торговле с положительным математическим ожиданием\n",
    "Теперь допустим, что\n",
    "игры имеют отрицательную корреляцию.'''\n",
    "\n",
    "R = -1\n",
    "if R == -1: # монеты изх двух игр всегда падают противоположно орел/решка или решка/орел\n",
    "    win = round((win_1_side_1 + win_2_side_2),1)\n",
    "    loss = round((win_1_side_2 + win_2_side_1),1)\n",
    "print(f'Выигрыш {win}, проигрыш {loss}')\n",
    "print(f'Такая игра имеет математическое ожидание {round(math_exp(0.5,0.5,win,loss),1)} $')\n",
    "X,Y,f = find_optim_f([win,loss])\n",
    "print(f'Среднее геометрическое G =  {G_average(X, Y, 2, f)}')\n"
   ]
  },
  {
   "cell_type": "markdown",
   "metadata": {},
   "source": [
    "Вспомните, что среднее геометрическое является фактором роста вашего счета в\n",
    "среднем за одну игру.. Это означает, что в такой игре в среднем можно ожидать\n",
    "выигрыша в 10 раз больше, чем в уже рассмотренной одиночной игре с\n",
    "положительным математическим ожиданием."
   ]
  },
  {
   "cell_type": "markdown",
   "metadata": {},
   "source": [
    "Однако этот результат получен с\n",
    "помощью игры с положительным математическим ожиданием и ее ком-\n",
    "бинирования с игрой с отрицательным ожиданием. Причина большой разницы в\n",
    "результатах возникает из-за отрицательной корреляции между двумя рыночными\n",
    "системами. Мы рассмотрели пример, когда портфель больше, чем сумма его\n",
    "частей.\n",
    "\n",
    "Важно помнить, что исторически ваш проигрыш может быть такой же большой,\n",
    "как и процент f (в смысле возможного уменьшения баланса). В действительности\n",
    "вам следует ожидать, что в будущем он будет выше, чем данное значение. Это\n",
    "означает, что комбинация двух рыночных систем, даже если они имеют\n",
    "отрицательную корреляцию, может привести к уменьшению баланса на 44%. Это\n",
    "больше, чем в системе с положительным математическим ожиданием, в которой\n",
    "оптимальное f= 0,25, и поэтому максимальный исторический проигрыш уменьшит\n",
    "баланс только на 25%. Мораль такова: диверсификация, если она произведена\n",
    "правильно, является методом, который повышает прибыли. Она не обязательно\n",
    "уменьшает проигрыши худшего случая, что абсолютно противоречит\n",
    "популярному представлению."
   ]
  },
  {
   "cell_type": "code",
   "execution_count": 1247,
   "metadata": {},
   "outputs": [
    {
     "name": "stdout",
     "output_type": "stream",
     "text": [
      "Выигрыши [2.9, 0.8999999999999999], проигрыши [-0.09999999999999998, -2.1] \n",
      "Такая игра имеет математическое ожидание 0.4 $\n",
      "При f = 0.26 TWR максимален и равен 1.1\n"
     ]
    },
    {
     "data": {
      "image/png": "[encoded data removed]",
      "text/plain": [
       "<Figure size 1080x720 with 1 Axes>"
      ]
     },
     "metadata": {
      "needs_background": "light"
     },
     "output_type": "display_data"
    },
    {
     "name": "stdout",
     "output_type": "stream",
     "text": [
      "Среднее геометрическое G =  1.02502475030572\n"
     ]
    }
   ],
   "source": [
    "'''давайте посмотрим на результаты, когда коэффициент корреляции между двумя играми\n",
    "равен 0. В такой ситуации, какими бы ни были результаты одного броска, они не\n",
    "влияют на результаты другого броска. Таким образом, есть четыре возможных\n",
    "результата:'''\n",
    "\n",
    "play_1 = [2,2,-1,-1]\n",
    "play_2 = [0.9, -1.1, 0.9, -1.1]\n",
    "\n",
    "R = -0\n",
    "win = []\n",
    "loss = []\n",
    "all_sum_trades = []\n",
    "if R == 0: # независимые игры\n",
    "    for i in range(len(play_1)):\n",
    "        s = play_1[i] + play_2[i]\n",
    "        all_sum_trades.append(s)\n",
    "        if s <=0:\n",
    "            loss.append(s)\n",
    "        else:\n",
    "            win.append(s)\n",
    "                \n",
    "print(f'Выигрыши {win}, проигрыши {loss} ')\n",
    "print(f'Такая игра имеет математическое ожидание {round(np.sum(np.dot(0.25, all_sum_trades)),1)} $')\n",
    "X,Y,f = find_optim_f(all_sum_trades)\n",
    "print(f'Среднее геометрическое G =  {G_average(X, Y, len(all_sum_trades), f)}')\n",
    "\n"
   ]
  },
  {
   "cell_type": "markdown",
   "metadata": {},
   "source": [
    "Таким образом, максимальный исторический проигрыш может быть 26% (примерно такой же, что и в\n",
    "простой игре с положительным математическим ожиданием). Однако в этом\n",
    "примере происходит сглаживание уменьшении баланса. Если бы мы просто рассматривали игру с положительным ожиданием, то третья последовательность\n",
    "принесла бы нам максимальный проигрыш. Так как мы комбинируем две системы,\n",
    "третья последовательность более ровная. Это единственный плюс. Среднее\n",
    "геометрическое здесь равно 1,025, то есть скорость роста в два раза меньше, чем\n",
    "при простой игре с положительным математическим ожиданием. Мы делаем 4\n",
    "ставки (когда могли бы сделать только 2 ставки в простой игре с положительным\n",
    "ожиданием), а больше не зарабатываем:"
   ]
  },
  {
   "cell_type": "markdown",
   "metadata": {},
   "source": [
    "Очевидно, что при диверсификации вы должны использовать такие рыночные\n",
    "системы, которые имеют самую низкую корреляцию прибылей друг к другу, и же-\n",
    "лательно отрицательную корреляцию. Вы должны понимать, что уменьшение ба-\n",
    "ланса худшего случая едва ли будет смягчено диверсификацией, хотя вы сможете\n",
    "смягчать многие более слабые уменьшения баланса. Наибольшая польза диверси-\n",
    "фикации состоит в улучшении среднего геометрического. Метод поиска\n",
    "оптимального портфеля путем рассмотрения чистых дневных HPR упраздняет\n",
    "необходимость смотреть за тем, сколько сделок в каждой рыночной системе\n",
    "произошло. Использование этого метода позволит вам наблюдать только за\n",
    "средним геометрическим независимо от частоты сделок. Таким образом, среднее\n",
    "геометрическое становится единственной статистической оценкой того, насколько\n",
    "прибыльным является портфель. **Главная цель диверсификации — это получение\n",
    "наивысшего среднего геометрического**."
   ]
  },
  {
   "cell_type": "markdown",
   "metadata": {},
   "source": [
    "#### Как разброс результатов затрагивает геометрический рост"
   ]
  },
  {
   "cell_type": "markdown",
   "metadata": {},
   "source": [
    "После того как мы признали тот факт, что, хотим мы того или нет, сознательно или\n",
    "нет, количество для торговли определяется по уровню баланса на счете, можно\n",
    "рассматривать HPR, а не денежные суммы. Таким образом, мы придадим\n",
    "управлению деньгами определенность и точность. Мы сможем проверить наши\n",
    "стратегии управления деньгами, составить правила и сделать определенные\n",
    "выводы. Посмотрим, как связан геометрический рост и разброс результатов (HPR)."
   ]
  },
  {
   "cell_type": "code",
   "execution_count": 1423,
   "metadata": {},
   "outputs": [
    {
     "name": "stdout",
     "output_type": "stream",
     "text": [
      "для каждой единицы ставки система А выиграет, в среднем, в 4.75 раз больше, чем система В.\n",
      "При f = 0.07 TWR максимален и равен 1.54\n"
     ]
    },
    {
     "data": {
      "image/png": "[encoded data removed]",
      "text/plain": [
       "<Figure size 1080x720 with 1 Axes>"
      ]
     },
     "metadata": {
      "needs_background": "light"
     },
     "output_type": "display_data"
    },
    {
     "name": "stdout",
     "output_type": "stream",
     "text": [
      "При f = 0.4 TWR максимален и равен 2.28\n"
     ]
    },
    {
     "data": {
      "image/png": "[encoded data removed]",
      "text/plain": [
       "<Figure size 1080x720 with 1 Axes>"
      ]
     },
     "metadata": {
      "needs_background": "light"
     },
     "output_type": "display_data"
    }
   ],
   "source": [
    "'''Рассмотрим две системы: систему А, которая выигрывает 10% времени и имеет\n",
    "отношение выигрыш/проигрыш 28 к 1, и систему В, которая выигрывает 70%\n",
    "времени и имеет отношение выигрыш/проигрыш 1,9 к 1.'''\n",
    "p_win_A = 0.1\n",
    "win_A = 28\n",
    "loss_A = -1\n",
    "\n",
    "p_win_B = 0.7\n",
    "win_B = 1\n",
    "loss_B = -1\n",
    "\n",
    "m_A =  round(math_exp(p_win_A,(1-p_win_A),win_A,loss_A),1)\n",
    "m_B =  round(math_exp(p_win_B,(1-p_win_B),win_B,loss_B),2)\n",
    "\n",
    "# тут я честно говоря не понял как автор получил такие значения для матожидания системы B, поэтому я скорректировал отношение выигрыш/проигрыш чтобы матожидание стало 0.4\n",
    "print(f'для каждой единицы ставки система А выиграет, в среднем, в {round(m_A/m_B,2)} раз больше, чем система В.')\n",
    "'''давайте рассмотрим торговлю фиксированной\n",
    "долей. Мы можем найти оптимальные f, разделив математическое ожидание на\n",
    "отношение выигрыш/проигрыш. Это даст нам оптимальное f'''\n",
    "f_A = round(m_A/win_A,4)\n",
    "f_B = round(m_B/win_B,4)\n",
    "\n",
    "play_A = [win_A]+[loss_A]*9\n",
    "X,Y,f = find_optim_f(play_A)\n",
    "G_A = round(G_average(X, Y, len(play_A), f),4)\n",
    "\n",
    "play_B = [win_B]*7+[loss_B]*3\n",
    "X,Y,f = find_optim_f(play_B)\n",
    "G_B = round(G_average(X, Y, len(play_B), f),4)\n"
   ]
  },
  {
   "cell_type": "code",
   "execution_count": 1421,
   "metadata": {},
   "outputs": [
    {
     "name": "stdout",
     "output_type": "stream",
     "text": [
      "----------------------------------------------------------------------------------------------------\n",
      "Система       %Выигрышей       Выигрыш:Проигрыш       МО       f        Среднее геометрическое\n",
      "                                                                                                    \n",
      "----------------------------------------------------------------------------------------------------\n",
      "А              10.0            28 : -1                1.9      0.0679   1.0442\n",
      "                                                                                                    \n",
      "B              70.0            1 : -1                 0.4      0.4      1.0858\n",
      "                                                                                                    \n",
      "----------------------------------------------------------------------------------------------------\n"
     ]
    }
   ],
   "source": [
    "print('-'*100)\n",
    "print('Система',' '*5, '%Выигрышей', ' '*5, 'Выигрыш:Проигрыш', ' '*5, 'МО', ' '*5, 'f', ' '*6, 'Среднее геометрическое')\n",
    "print(' '*100)\n",
    "print('-'*100)\n",
    "print('А      ',' '*6, p_win_A*100, ' '*10, win_A, ':', loss_A, ' '*14, m_A, ' '*4, f_A, ' ', G_A)\n",
    "print(' '*100)\n",
    "print('B      ',' '*6, p_win_B*100, ' '*10, win_B, ':', loss_B, ' '*15, m_B, ' '*4, f_B, '    ', G_B)\n",
    "print(' '*100)\n",
    "print('-'*100)"
   ]
  },
  {
   "cell_type": "markdown",
   "metadata": {},
   "source": [
    "Как видите, система В, несмотря на то что ее математическое ожидание примерно\n",
    "в четыре раза меньше, чем системы А, приносит почти в два раза больше за ставку\n",
    "(доходность 8,57629% за ставку, когда вы реинвестируете с оптимальным f), чем\n",
    "система А (которая приносит 4,4176755% за ставку, когда вы реинвестируете с\n",
    "оптимальным f)."
   ]
  },
  {
   "cell_type": "code",
   "execution_count": 1434,
   "metadata": {},
   "outputs": [
    {
     "name": "stdout",
     "output_type": "stream",
     "text": [
      "количество сделок для системы А для возмещения 50% проигрыша равно 16.0\n",
      "количество сделок для системы А для возмещения 50% проигрыша равно 8.0\n"
     ]
    }
   ],
   "source": [
    "'''Проигрыш 50% по балансу потребует 100% прибыли для возмещения;'''\n",
    "'''1.0442^x = 2'''\n",
    "import math\n",
    "print(f'количество сделок для системы А для возмещения 50% проигрыша равно {round(math.log(2, G_A),0)}')\n",
    "print(f'количество сделок для системы А для возмещения 50% проигрыша равно {round(math.log(2, G_B),0)}')\n"
   ]
  },
  {
   "cell_type": "markdown",
   "metadata": {},
   "source": [
    "В чем здесь дело? Не потому ли все это происходит, что система В имеет процент\n",
    "выигрышных сделок выше? Истинная причина, по которой В функционирует\n",
    "лучше А, кроется в разбросе результатов и его влиянии на функцию роста.\n",
    "Большинство трейдеров ошибочно считают, что функция роста TWR задается\n",
    "следующим образом:\n",
    "    (1.17) TWR = (1+R)^N\n",
    "где \n",
    "    R = процентная ставка за период (например, 7% = 0,07);\n",
    "    N = количество периодов.\n",
    "Так как 1 + R то же, что и HPR, большинство ошибочно полагает, что функция\n",
    "роста TWR равна:\n",
    "    (1.18) TWR = HPR ^N\n",
    "Эта функция верна только тогда, когда прибыль (то есть HPR) постоянна, чего в\n",
    "торговле не бывает. Реальная функция роста в торговле (или любой другой среде,\n",
    "где HPR не является постоянной) — это произведение всех HPR. \n",
    "\n",
    "Допустим, мы торгуем кофе, наше оптимальное f составляет 1 контракт на каждую 21 000\n",
    "долларов на балансе счета и прошло 2 сделки, одна из которых принесла убыток\n",
    "210 долларов, а другая выигрыш 210 долларов. В этом примере HPR равны 0,99 и\n",
    "1,01 соответственно. Таким образом, TWR равно:\n",
    "\n",
    "0.99*1.01 =  0.9999\n",
    "\n",
    "Дополнительную информацию можно получить, используя оценочное среднее\n",
    "геометрическое (EGM):\n",
    "    (1.16a)  EGM = (AHPR^2 - SD^2)^(1/2)\n",
    "    или\n",
    "    (1.16b)  EGM = (AHPR^2 - V)^(1/2)\n",
    "    \n",
    "где \n",
    "    N = количество периодов;\n",
    "    АНPR = среднее арифметическое HPR;\n",
    "    SD = стандартное отклонение значений HPR;\n",
    "    V = дисперсия значений HPR.\n",
    "    \n",
    "Полученная информация говорит, что найден компромисс между увеличением\n",
    "средней арифметической торговли (HPR) и дисперсией HPR, и становится ясна\n",
    "причина, по которой система (1,9:1 ; 70%) работает лучше, чем система (28:1;\n",
    "10%)!\n",
    "\n",
    "Нашей целью является максимизация коэффициента этой функции, т.е. мак-\n",
    "симизация следующей величины EGM\n",
    "    \n",
    "Показатель оценочного TWR, т.е. N, сам о себе позаботится. Увеличение N не яв-\n",
    "ляется проблемой, так как мы можем расширить количество рынков или торговать\n",
    "в более краткосрочных типах систем.\n",
    "\n",
    "Расчет дисперсии и стандартного отклонения (V и SD соответственно) может\n",
    "оказаться трудным для большинства людей, не знакомых со статистикой. Вместо\n",
    "этих величин многие используют среднее абсолютное отклонение, которое мы на-\n",
    "зовем М. Чтобы найти М, надо просто взять среднее абсолютное значение разно-\n",
    "сти самой величины и ее среднего значения."
   ]
  },
  {
   "cell_type": "markdown",
   "metadata": {},
   "source": [
    " $$M = \\sum(ABS(X_i - \\overline{X})/N)$$"
   ]
  },
  {
   "cell_type": "markdown",
   "metadata": {},
   "source": [
    "При колоколообразном распределении (как почти всегда бывает с распределением\n",
    "прибылей и убытков торговой системы) среднее абсолютное отклонение примерно\n",
    "равно 0,8 стандартного отклонения (в нормальном распределении оно составляет\n",
    "0,7979). Поэтому мы можем сказать:\n",
    "\n",
    "(1.21)   M = 0.8 * SD\n",
    "\n",
    "и \n",
    "\n",
    "(1.22)   SD = 1.25 * M\n",
    "\n",
    "Обозначим среднее арифметическое HPR переменной А, а среднее геометрическое\n",
    "HPR переменной G. Используя уравнение (1.166), мы можем выразить оценочное\n",
    "среднее геометрическое следующим образом:\n",
    "\n",
    "\n",
    "(1.16b)   G = (A ^ 2 - V) ^ (1/2)\n",
    "\n",
    "из этого уравнения получим:\n",
    "\n",
    "(1.23)    G ^ 2 = (A ^ 2 - V) \n",
    "\n",
    "Теперь вместо дисперсии подставим стандартное отклонение [как в (1.16а)]:\n",
    "\n",
    "(1.24)    G ^ 2 = A ^2 - SD ^ 2\n",
    "\n",
    "\n",
    "Из этого уравнения мы можем выделить каждую переменную, а также выделить\n",
    "ноль, чтобы получить фундаментальные соотношения между средним\n",
    "арифметическим, средним геометрическим и разбросом, выраженным здесь как\n",
    "SD ^ 2:\n",
    "\n",
    "(1.25)   $A ^ 2 - G ^ 2 - SD ^ 2 = 0$\n",
    "\n",
    "(1.26)   $G ^ 2 = A ^ 2 - SD ^ 2$\n",
    "\n",
    "(1.27)   $SD ^ 2 = A ^ 2 - G ^ 2$\n",
    "\n",
    "(1.28)   $A ^ 2  = G ^ 2 + SD ^ 2$"
   ]
  },
  {
   "cell_type": "markdown",
   "metadata": {},
   "source": [
    "Отметьте, что последнее из уравнений — это теорема Пифагора: сумма квадратов\n",
    "катетов равна квадрату гипотенузы! Но здесь гипотенуза это А, а мы хотим\n",
    "максимизировать одну из ее сторон, G. \n",
    "\n",
    "При увеличении G любое повышение D («катет» дисперсии, равный SD или V^(1/2), или 1,25 * М) приведет к увеличению\n",
    "А. Когда D равно нулю, тогда А равно G, этим самым соответствуя ложно толкуемой функции роста TWR = (1 + R)^ N. \n",
    "\n",
    "Действительно, когда D равно нулю, тогда А равно G в соответствии с уравнением (1.26).\n",
    "Мы можем сказать, что повышение А^ 2 оказывает на G то же воздействие, что и аналогичное понижение величины (1,25 * М) ^ 2.\n",
    "\n",
    "(1.29)    $\\Delta A^2 = -\\Delta ((1.25 * M)^2)$"
   ]
  },
  {
   "cell_type": "code",
   "execution_count": 1449,
   "metadata": {},
   "outputs": [
    {
     "name": "stdout",
     "output_type": "stream",
     "text": [
      "A\tSD\tM\tG\tA^2\tSD`^2=(1.25*M)^2\n",
      "______________________________________________________________________\n",
      "1.1 \t 0.1 \t 0.08 \t 1.095 \t 1.21 \t 0.01\n",
      "1.2 \t 0.491 \t 0.393 \t 1.095 \t 1.44 \t 0.241\n"
     ]
    }
   ],
   "source": [
    "'''Чтобы понять это, рассмотрим изменение А от 1,1 до 1,2:'''\n",
    "\n",
    "A = 1.1\n",
    "SD = 0.1\n",
    "M = round(0.8 * SD,3)\n",
    "G = round(np.sqrt(A**2 - SD**2),3)\n",
    "print('A\\tSD\\tM\\tG\\tA^2\\tSD`^2=(1.25*M)^2')\n",
    "print('_'*70)\n",
    "print(A,'\\t',SD,'\\t',M,'\\t',G,'\\t',round(A**2,3), '\\t', round(SD**2,3)  )\n",
    "A = 1.2\n",
    "SD = round(np.sqrt(A**2 - G**2),3)\n",
    "M = round(0.8 * SD,3)\n",
    "print(A,'\\t',SD,'\\t',M,'\\t',G,'\\t',round(A**2,3), '\\t', round(SD**2,3)  )"
   ]
  },
  {
   "cell_type": "code",
   "execution_count": 1450,
   "metadata": {},
   "outputs": [
    {
     "name": "stdout",
     "output_type": "stream",
     "text": [
      "A\tSD\tM\tG\tA^2\tSD`^2=(1.25*M)^2\n",
      "______________________________________________________________________\n",
      "1.1 \t 0.25 \t 0.2 \t 1.071 \t 1.21 \t 0.062\n",
      "1.2 \t 0.541 \t 0.433 \t 1.071 \t 1.44 \t 0.293\n"
     ]
    }
   ],
   "source": [
    "A = 1.1\n",
    "SD = 0.25\n",
    "M = round(0.8 * SD,3)\n",
    "G = round(np.sqrt(A**2 - SD**2),3)\n",
    "print('A\\tSD\\tM\\tG\\tA^2\\tSD`^2=(1.25*M)^2')\n",
    "print('_'*70)\n",
    "print(A,'\\t',SD,'\\t',M,'\\t',G,'\\t',round(A**2,3), '\\t', round(SD**2,3)  )\n",
    "A = 1.2\n",
    "SD = round(np.sqrt(A**2 - G**2),3)\n",
    "M = round(0.8 * SD,3)\n",
    "print(A,'\\t',SD,'\\t',M,'\\t',G,'\\t',round(A**2,3), '\\t', round(SD**2,3)  )"
   ]
  },
  {
   "cell_type": "markdown",
   "metadata": {},
   "source": [
    "Отметьте, что в предыдущем примере, где мы начали с меньших значений разброса (SD или М), требовалось их большее повышение, чтобы достичь того же G.\n",
    "Таким образом, можно утверждать, что чем сильнее вы уменьшаете дисперсию, тем легче дается больший выигрыш. Это экспоненциальная функция, причем в пределе, при нулевой дисперсии, G равно А. Трейдер, который торгует на фиксированной долевой основе, должен максимизировать G, но не обязательно А. При максимизации G надо понимать, что стандартное отклонение SD затрагивает G в той же степени, что и А в соответствии с теоремой Пифагора! \n",
    "\n",
    "\n",
    "Таким образом, когда трейдер уменьшает стандартное отклонение (SD) своих сделок, это эквивалентно повышению арифметического среднего HPR (т.е. А), и наоборот!"
   ]
  }
 ],
 "metadata": {
  "kernelspec": {
   "display_name": "Python 3",
   "language": "python",
   "name": "python3"
  },
  "language_info": {
   "codemirror_mode": {
    "name": "ipython",
    "version": 3
   },
   "file_extension": ".py",
   "mimetype": "text/x-python",
   "name": "python",
   "nbconvert_exporter": "python",
   "pygments_lexer": "ipython3",
   "version": "3.8.5"
  }
 },
 "nbformat": 4,
 "nbformat_minor": 4
}
